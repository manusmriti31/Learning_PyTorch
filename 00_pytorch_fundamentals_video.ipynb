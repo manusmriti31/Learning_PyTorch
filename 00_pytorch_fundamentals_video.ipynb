{
  "nbformat": 4,
  "nbformat_minor": 0,
  "metadata": {
    "colab": {
      "provenance": [],
      "gpuType": "T4",
      "authorship_tag": "ABX9TyMtwfPPef1GZgROonboaGwC",
      "include_colab_link": true
    },
    "kernelspec": {
      "name": "python3",
      "display_name": "Python 3"
    },
    "language_info": {
      "name": "python"
    },
    "accelerator": "GPU"
  },
  "cells": [
    {
      "cell_type": "markdown",
      "metadata": {
        "id": "view-in-github",
        "colab_type": "text"
      },
      "source": [
        "<a href=\"https://colab.research.google.com/github/manusmriti31/Learning_PyTorch/blob/main/00_pytorch_fundamentals_video.ipynb\" target=\"_parent\"><img src=\"https://colab.research.google.com/assets/colab-badge.svg\" alt=\"Open In Colab\"/></a>"
      ]
    },
    {
      "cell_type": "code",
      "execution_count": null,
      "metadata": {
        "colab": {
          "base_uri": "https://localhost:8080/"
        },
        "id": "0bzN-idccnxw",
        "outputId": "f9a5b598-752e-447d-96ab-666c73bede11"
      },
      "outputs": [
        {
          "output_type": "stream",
          "name": "stdout",
          "text": [
            "Hello welcome to google collab!\n"
          ]
        }
      ],
      "source": [
        "print(\"Hello welcome to google collab!\")"
      ]
    },
    {
      "cell_type": "code",
      "source": [
        "import torch\n",
        "import pandas as pd\n",
        "import numpy as np\n",
        "import matplotlib.pyplot as plt\n",
        "print(torch.__version__)"
      ],
      "metadata": {
        "colab": {
          "base_uri": "https://localhost:8080/"
        },
        "id": "y-lvSQI_c2eA",
        "outputId": "19bdc6e6-6c99-4f97-b1e4-5627b5b60fdd"
      },
      "execution_count": null,
      "outputs": [
        {
          "output_type": "stream",
          "name": "stdout",
          "text": [
            "2.4.1+cu121\n"
          ]
        }
      ]
    },
    {
      "cell_type": "markdown",
      "source": [
        " ## Introduction to Tensor\n",
        " ### Crating tensors\n",
        " Pythorch tensors are created using `torch.Tensor()` = https://pytorch.org/docs/stable/tensors.html"
      ],
      "metadata": {
        "id": "VZ3sFpvjdKZ_"
      }
    },
    {
      "cell_type": "code",
      "source": [
        "#scalar\n",
        "scalar = torch.tensor(7)\n",
        "scalar"
      ],
      "metadata": {
        "colab": {
          "base_uri": "https://localhost:8080/"
        },
        "id": "prCDoMkKp6By",
        "outputId": "abeaee48-25d8-4163-9cb5-5ea45ca503c6"
      },
      "execution_count": null,
      "outputs": [
        {
          "output_type": "execute_result",
          "data": {
            "text/plain": [
              "tensor(7)"
            ]
          },
          "metadata": {},
          "execution_count": 3
        }
      ]
    },
    {
      "cell_type": "code",
      "source": [
        "scalar.ndim"
      ],
      "metadata": {
        "colab": {
          "base_uri": "https://localhost:8080/"
        },
        "id": "7yjg5rm-qWPW",
        "outputId": "4b0663ef-c944-4973-90fe-d1cbb7d04c8e"
      },
      "execution_count": null,
      "outputs": [
        {
          "output_type": "execute_result",
          "data": {
            "text/plain": [
              "0"
            ]
          },
          "metadata": {},
          "execution_count": 4
        }
      ]
    },
    {
      "cell_type": "code",
      "source": [
        "# Get tensor back as Python int\n",
        "scalar.item()"
      ],
      "metadata": {
        "colab": {
          "base_uri": "https://localhost:8080/"
        },
        "id": "0H75NmVKrNpN",
        "outputId": "b6735f5b-8e23-4896-f62e-beeb357cc0ce"
      },
      "execution_count": null,
      "outputs": [
        {
          "output_type": "execute_result",
          "data": {
            "text/plain": [
              "7"
            ]
          },
          "metadata": {},
          "execution_count": 5
        }
      ]
    },
    {
      "cell_type": "code",
      "source": [
        " # Vector\n",
        " vector = torch.tensor([7,7])\n",
        " vector"
      ],
      "metadata": {
        "colab": {
          "base_uri": "https://localhost:8080/"
        },
        "id": "JJ8qhiQNrQHY",
        "outputId": "77307635-65ce-4c24-8501-4ae2ef3502d8"
      },
      "execution_count": null,
      "outputs": [
        {
          "output_type": "execute_result",
          "data": {
            "text/plain": [
              "tensor([7, 7])"
            ]
          },
          "metadata": {},
          "execution_count": 6
        }
      ]
    },
    {
      "cell_type": "code",
      "source": [
        "vector.ndim"
      ],
      "metadata": {
        "colab": {
          "base_uri": "https://localhost:8080/"
        },
        "id": "N9dg2BfTruWE",
        "outputId": "becaaaa8-b22d-4999-f04f-e2745221b94e"
      },
      "execution_count": null,
      "outputs": [
        {
          "output_type": "execute_result",
          "data": {
            "text/plain": [
              "1"
            ]
          },
          "metadata": {},
          "execution_count": 7
        }
      ]
    },
    {
      "cell_type": "code",
      "source": [
        " vector.shape"
      ],
      "metadata": {
        "colab": {
          "base_uri": "https://localhost:8080/"
        },
        "id": "HJNgcp0HrwMg",
        "outputId": "a1456b22-ce38-47a8-f848-56aaa39e708d"
      },
      "execution_count": null,
      "outputs": [
        {
          "output_type": "execute_result",
          "data": {
            "text/plain": [
              "torch.Size([2])"
            ]
          },
          "metadata": {},
          "execution_count": 8
        }
      ]
    },
    {
      "cell_type": "code",
      "source": [
        "# MATRIX\n",
        "MATRIX = torch.tensor([[7,8],\n",
        "                       [2,3]])\n",
        "MATRIX"
      ],
      "metadata": {
        "colab": {
          "base_uri": "https://localhost:8080/"
        },
        "id": "K0M3CRcxr8BP",
        "outputId": "dbf63b40-f93c-4f02-c873-ef58d0350800"
      },
      "execution_count": null,
      "outputs": [
        {
          "output_type": "execute_result",
          "data": {
            "text/plain": [
              "tensor([[7, 8],\n",
              "        [2, 3]])"
            ]
          },
          "metadata": {},
          "execution_count": 9
        }
      ]
    },
    {
      "cell_type": "code",
      "source": [
        "MATRIX.ndim"
      ],
      "metadata": {
        "colab": {
          "base_uri": "https://localhost:8080/"
        },
        "id": "K-MMWmGBsWjZ",
        "outputId": "3c4bf13f-7fc8-459d-826f-e623a11da2e9"
      },
      "execution_count": null,
      "outputs": [
        {
          "output_type": "execute_result",
          "data": {
            "text/plain": [
              "2"
            ]
          },
          "metadata": {},
          "execution_count": 10
        }
      ]
    },
    {
      "cell_type": "code",
      "source": [
        "MATRIX.shape"
      ],
      "metadata": {
        "colab": {
          "base_uri": "https://localhost:8080/"
        },
        "id": "DhF6K6X8sZ4O",
        "outputId": "1a419171-c152-4f51-834b-dfcfd84cedd1"
      },
      "execution_count": null,
      "outputs": [
        {
          "output_type": "execute_result",
          "data": {
            "text/plain": [
              "torch.Size([2, 2])"
            ]
          },
          "metadata": {},
          "execution_count": 11
        }
      ]
    },
    {
      "cell_type": "code",
      "source": [
        "# Tensor\n",
        "TENSOR = torch.tensor([[[1,2,3],\n",
        "                        [4,5,6],\n",
        "                        [7,8,9]]])\n",
        "TENSOR\n"
      ],
      "metadata": {
        "colab": {
          "base_uri": "https://localhost:8080/"
        },
        "id": "U3T1mRmjscBw",
        "outputId": "f1f07e16-e4da-4b87-aaa3-04b17025fc23"
      },
      "execution_count": null,
      "outputs": [
        {
          "output_type": "execute_result",
          "data": {
            "text/plain": [
              "tensor([[[1, 2, 3],\n",
              "         [4, 5, 6],\n",
              "         [7, 8, 9]]])"
            ]
          },
          "metadata": {},
          "execution_count": 12
        }
      ]
    },
    {
      "cell_type": "code",
      "source": [
        "TENSOR.ndim"
      ],
      "metadata": {
        "colab": {
          "base_uri": "https://localhost:8080/"
        },
        "id": "-fFuTcImt_Ad",
        "outputId": "c8df67be-9b1c-458e-bb51-1eb111870721"
      },
      "execution_count": null,
      "outputs": [
        {
          "output_type": "execute_result",
          "data": {
            "text/plain": [
              "3"
            ]
          },
          "metadata": {},
          "execution_count": 13
        }
      ]
    },
    {
      "cell_type": "code",
      "source": [
        "TENSOR.shape"
      ],
      "metadata": {
        "colab": {
          "base_uri": "https://localhost:8080/"
        },
        "id": "0Hr00ca4uC_y",
        "outputId": "c24dc09d-5efa-4455-ed0f-c20de570d1f0"
      },
      "execution_count": null,
      "outputs": [
        {
          "output_type": "execute_result",
          "data": {
            "text/plain": [
              "torch.Size([1, 3, 3])"
            ]
          },
          "metadata": {},
          "execution_count": 14
        }
      ]
    },
    {
      "cell_type": "code",
      "source": [
        "TENSOR[0]"
      ],
      "metadata": {
        "colab": {
          "base_uri": "https://localhost:8080/"
        },
        "id": "g3JbkPXkuEaW",
        "outputId": "4a6a4b03-f600-416e-d754-0e7ffe0b4152"
      },
      "execution_count": null,
      "outputs": [
        {
          "output_type": "execute_result",
          "data": {
            "text/plain": [
              "tensor([[1, 2, 3],\n",
              "        [4, 5, 6],\n",
              "        [7, 8, 9]])"
            ]
          },
          "metadata": {},
          "execution_count": 15
        }
      ]
    },
    {
      "cell_type": "markdown",
      "source": [
        "TENSOR[1]\n",
        "\n",
        "This will raise and out of index error"
      ],
      "metadata": {
        "id": "u_qrcyAjuIdo"
      }
    },
    {
      "cell_type": "markdown",
      "source": [
        "### Random tensors\n",
        "\n",
        "why random tensors?\n",
        "\n",
        "Random tensors are important because the way  many  neural networks learn is that they start with tensors full of rnadom numbers and then adjust those random numbers to better represent the data\n",
        "\n",
        "`Start with random numbers -> look at data -> update random numbers -> look at data -> update random numbers`"
      ],
      "metadata": {
        "id": "-kDr_QSEuKG9"
      }
    },
    {
      "cell_type": "code",
      "source": [
        "# Create a random tensor of size (3,4)\n",
        "random_tensor = torch.rand(3,4)\n",
        "random_tensor"
      ],
      "metadata": {
        "colab": {
          "base_uri": "https://localhost:8080/"
        },
        "id": "y9NxV01Fv0sq",
        "outputId": "710b794a-d782-45f6-bee0-c0ca63d4000f"
      },
      "execution_count": null,
      "outputs": [
        {
          "output_type": "execute_result",
          "data": {
            "text/plain": [
              "tensor([[0.3544, 0.5893, 0.0665, 0.2617],\n",
              "        [0.1513, 0.7078, 0.2558, 0.8290],\n",
              "        [0.6080, 0.4638, 0.9531, 0.2221]])"
            ]
          },
          "metadata": {},
          "execution_count": 16
        }
      ]
    },
    {
      "cell_type": "code",
      "source": [
        "random_tensor_image_size = torch.rand(size = (224,224,3))\n",
        "random_tensor_image_size.shape, random_tensor_image_size.ndim"
      ],
      "metadata": {
        "colab": {
          "base_uri": "https://localhost:8080/"
        },
        "id": "dU97E009wAvW",
        "outputId": "3445ddb2-9dec-41fc-e19f-50aa8e33e2bb"
      },
      "execution_count": null,
      "outputs": [
        {
          "output_type": "execute_result",
          "data": {
            "text/plain": [
              "(torch.Size([224, 224, 3]), 3)"
            ]
          },
          "metadata": {},
          "execution_count": 17
        }
      ]
    },
    {
      "cell_type": "markdown",
      "source": [
        "In the above we can see that in `torch.rand()` in one of the cells we have give as `torch.rand()` and in the other one we have given `torch.rnad(size = )` both the va"
      ],
      "metadata": {
        "id": "0y6wD7cywyUR"
      }
    },
    {
      "cell_type": "markdown",
      "source": [
        "#Zeroes and ones"
      ],
      "metadata": {
        "id": "frwbBgw-H3M_"
      }
    },
    {
      "cell_type": "code",
      "source": [
        "# Create a tensor of all zeros\n",
        "zeros = torch.zeros(3,4)\n",
        "zeros"
      ],
      "metadata": {
        "colab": {
          "base_uri": "https://localhost:8080/"
        },
        "id": "LFVIaYeiH6Ls",
        "outputId": "54a89f1a-7798-4780-8758-4b1d21e31411"
      },
      "execution_count": null,
      "outputs": [
        {
          "output_type": "execute_result",
          "data": {
            "text/plain": [
              "tensor([[0., 0., 0., 0.],\n",
              "        [0., 0., 0., 0.],\n",
              "        [0., 0., 0., 0.]])"
            ]
          },
          "metadata": {},
          "execution_count": 18
        }
      ]
    },
    {
      "cell_type": "code",
      "source": [
        "# Create a tensor o f all ones\n",
        "ones = torch.ones(3,4)\n",
        "ones"
      ],
      "metadata": {
        "colab": {
          "base_uri": "https://localhost:8080/"
        },
        "id": "APkvuVbzICw9",
        "outputId": "698cb706-4f9a-4f29-acd2-3811cf64688e"
      },
      "execution_count": null,
      "outputs": [
        {
          "output_type": "execute_result",
          "data": {
            "text/plain": [
              "tensor([[1., 1., 1., 1.],\n",
              "        [1., 1., 1., 1.],\n",
              "        [1., 1., 1., 1.]])"
            ]
          },
          "metadata": {},
          "execution_count": 19
        }
      ]
    },
    {
      "cell_type": "code",
      "source": [
        "ones.dtype"
      ],
      "metadata": {
        "colab": {
          "base_uri": "https://localhost:8080/"
        },
        "id": "udxpoKcnIfy7",
        "outputId": "73eafe34-f0f6-4627-f4e5-2a0bba91b01c"
      },
      "execution_count": null,
      "outputs": [
        {
          "output_type": "execute_result",
          "data": {
            "text/plain": [
              "torch.float32"
            ]
          },
          "metadata": {},
          "execution_count": 20
        }
      ]
    },
    {
      "cell_type": "markdown",
      "source": [
        "### Creating a range of tensors and tensors-like"
      ],
      "metadata": {
        "id": "38ufxY74Ioq9"
      }
    },
    {
      "cell_type": "code",
      "source": [
        "# to get a rnage of numbers\n",
        "one_to_ten = torch.arange(1,11)\n",
        "one_to_ten"
      ],
      "metadata": {
        "colab": {
          "base_uri": "https://localhost:8080/"
        },
        "id": "MTdFLUQtJhku",
        "outputId": "d163e678-df16-45f6-bbef-48bcb19071a6"
      },
      "execution_count": null,
      "outputs": [
        {
          "output_type": "execute_result",
          "data": {
            "text/plain": [
              "tensor([ 1,  2,  3,  4,  5,  6,  7,  8,  9, 10])"
            ]
          },
          "metadata": {},
          "execution_count": 21
        }
      ]
    },
    {
      "cell_type": "markdown",
      "source": [
        "This has the format torch.arange(start=0,end,step=1)"
      ],
      "metadata": {
        "id": "5Jg9EQ4xJmne"
      }
    },
    {
      "cell_type": "code",
      "source": [
        "#demonstrating different format of representation\n",
        "range_demo1 = torch.arange(12,50,2)\n",
        "range_demo2 = torch.arange(start = 10, end = 50, step = 2)\n",
        "range_demo1, range_demo2"
      ],
      "metadata": {
        "colab": {
          "base_uri": "https://localhost:8080/"
        },
        "id": "-f9YxErxKXLd",
        "outputId": "85c05237-89af-47aa-bd11-4ef5b62a08db"
      },
      "execution_count": null,
      "outputs": [
        {
          "output_type": "execute_result",
          "data": {
            "text/plain": [
              "(tensor([12, 14, 16, 18, 20, 22, 24, 26, 28, 30, 32, 34, 36, 38, 40, 42, 44, 46,\n",
              "         48]),\n",
              " tensor([10, 12, 14, 16, 18, 20, 22, 24, 26, 28, 30, 32, 34, 36, 38, 40, 42, 44,\n",
              "         46, 48]))"
            ]
          },
          "metadata": {},
          "execution_count": 22
        }
      ]
    },
    {
      "cell_type": "code",
      "source": [
        "# Creating a tensor like\n",
        "ten_zeros = torch.zeros_like(input = one_to_ten)\n",
        "ten_zeros"
      ],
      "metadata": {
        "colab": {
          "base_uri": "https://localhost:8080/"
        },
        "id": "q8pgkG7HKy06",
        "outputId": "2b2929b8-87a7-4aa9-bfb4-b9e022b1abf6"
      },
      "execution_count": null,
      "outputs": [
        {
          "output_type": "execute_result",
          "data": {
            "text/plain": [
              "tensor([0, 0, 0, 0, 0, 0, 0, 0, 0, 0])"
            ]
          },
          "metadata": {},
          "execution_count": 23
        }
      ]
    },
    {
      "cell_type": "code",
      "source": [
        " float_32_tensor = torch.tensor([3.0,6.1,9.0],dtype = None)\n",
        " float_32_tensor"
      ],
      "metadata": {
        "colab": {
          "base_uri": "https://localhost:8080/"
        },
        "id": "BNKhFxJ7LmvJ",
        "outputId": "d57d39c2-7506-438c-e2fe-996b72f89d42"
      },
      "execution_count": null,
      "outputs": [
        {
          "output_type": "execute_result",
          "data": {
            "text/plain": [
              "tensor([3.0000, 6.1000, 9.0000])"
            ]
          },
          "metadata": {},
          "execution_count": 24
        }
      ]
    },
    {
      "cell_type": "code",
      "source": [
        "float_32_tensor.dtype"
      ],
      "metadata": {
        "colab": {
          "base_uri": "https://localhost:8080/"
        },
        "id": "h68JRWzMQTel",
        "outputId": "2b0da182-70e8-4243-a11f-9d989105e59d"
      },
      "execution_count": null,
      "outputs": [
        {
          "output_type": "execute_result",
          "data": {
            "text/plain": [
              "torch.float32"
            ]
          },
          "metadata": {},
          "execution_count": 25
        }
      ]
    },
    {
      "cell_type": "markdown",
      "source": [
        "#Tensor datatypes\n",
        "**Note:** Tensor datatypes is one of the 3 big errors you'll run into with PyTorch & deep learning:\n",
        "1. Tensors not right datatype\n",
        "2. Tesors not right shape\n",
        "3. Tesnors not on the right device"
      ],
      "metadata": {
        "id": "cTO3Rcr0QYWd"
      }
    },
    {
      "cell_type": "code",
      "source": [
        "# Float 32 tesor\n",
        "float_32_tensor = torch.tensor([3.0,6.0,9.0],\n",
        "                               dtype = None, # what datatype is the tensor (eg. float32 or float16)\n",
        "                               device = None, # what device is your tensor on\n",
        "                               requires_grad = False # wheater or not to track gradients with this tensor operations\n",
        "                               )\n",
        "float_32_tensor"
      ],
      "metadata": {
        "id": "PuKbxn9qTjqj",
        "colab": {
          "base_uri": "https://localhost:8080/"
        },
        "outputId": "0e79eac4-8911-4ba5-e43b-b4c4bdd90669"
      },
      "execution_count": null,
      "outputs": [
        {
          "output_type": "execute_result",
          "data": {
            "text/plain": [
              "tensor([3., 6., 9.])"
            ]
          },
          "metadata": {},
          "execution_count": 26
        }
      ]
    },
    {
      "cell_type": "code",
      "source": [
        "float_16_tensor = float_32_tensor.type(torch.float16)\n",
        "float_16_tensor"
      ],
      "metadata": {
        "colab": {
          "base_uri": "https://localhost:8080/"
        },
        "id": "GWnetcMyzS1C",
        "outputId": "1a7f8f0b-404a-486b-9170-57785e2670cc"
      },
      "execution_count": null,
      "outputs": [
        {
          "output_type": "execute_result",
          "data": {
            "text/plain": [
              "tensor([3., 6., 9.], dtype=torch.float16)"
            ]
          },
          "metadata": {},
          "execution_count": 27
        }
      ]
    },
    {
      "cell_type": "code",
      "source": [
        "float_16_tensor * float_32_tensor"
      ],
      "metadata": {
        "colab": {
          "base_uri": "https://localhost:8080/"
        },
        "id": "m4K71cRczi3W",
        "outputId": "ce9714b8-9129-4226-a1cd-5cdc569e3d4d"
      },
      "execution_count": null,
      "outputs": [
        {
          "output_type": "execute_result",
          "data": {
            "text/plain": [
              "tensor([ 9., 36., 81.])"
            ]
          },
          "metadata": {},
          "execution_count": 28
        }
      ]
    },
    {
      "cell_type": "markdown",
      "source": [
        "### Getting information form tensors(tensor attributes)\n",
        "\n",
        "1. Tensors not right datatype- to do get datatype form a tensro, can use `tensor.dtype`\n",
        "2. Tensors not right shape - to get shape from a tenosr, cna use `tensor.shape`\n",
        "3. Tensors not on the right device - to get deice from a tensor, can use `tensor.device`"
      ],
      "metadata": {
        "id": "ZCVClG1Izut7"
      }
    },
    {
      "cell_type": "code",
      "source": [
        "# Creating a tensor\n",
        "some_tensor = torch.rand([3,4])\n",
        "some_tensor"
      ],
      "metadata": {
        "colab": {
          "base_uri": "https://localhost:8080/"
        },
        "id": "JXg1UK991mby",
        "outputId": "70f64205-0fea-4de5-c99f-84f135ef3323"
      },
      "execution_count": null,
      "outputs": [
        {
          "output_type": "execute_result",
          "data": {
            "text/plain": [
              "tensor([[0.2522, 0.2616, 0.3700, 0.6925],\n",
              "        [0.4690, 0.6907, 0.9439, 0.6325],\n",
              "        [0.5079, 0.8393, 0.7070, 0.3641]])"
            ]
          },
          "metadata": {},
          "execution_count": 29
        }
      ]
    },
    {
      "cell_type": "code",
      "source": [
        "print(some_tensor)\n",
        "print(some_tensor.dtype)\n",
        "print(some_tensor.shape) #some_tensor.size() `.size() is a function whereas .shape is an attribute\n",
        "print(some_tensor.device)"
      ],
      "metadata": {
        "colab": {
          "base_uri": "https://localhost:8080/"
        },
        "id": "iSMoARsIT42W",
        "outputId": "17a423d3-847c-48fe-af23-5e00891af030"
      },
      "execution_count": null,
      "outputs": [
        {
          "output_type": "stream",
          "name": "stdout",
          "text": [
            "tensor([[0.2522, 0.2616, 0.3700, 0.6925],\n",
            "        [0.4690, 0.6907, 0.9439, 0.6325],\n",
            "        [0.5079, 0.8393, 0.7070, 0.3641]])\n",
            "torch.float32\n",
            "torch.Size([3, 4])\n",
            "cpu\n"
          ]
        }
      ]
    },
    {
      "cell_type": "markdown",
      "source": [
        "### Manipulating Tensors (tensor operations)\n",
        "Tensor operations include:\n",
        "* Addition\n",
        "* Substraction\n",
        "* Multiplication (element-wise)\n",
        "* Division\n",
        "* Matrix Multiplication"
      ],
      "metadata": {
        "id": "V5xnUl0yUDHb"
      }
    },
    {
      "cell_type": "code",
      "source": [
        "# Create a tensor and perform the above oberations with the help of python functions\n",
        "tensor = torch.tensor([1,2,3])\n",
        "print(tensor)\n",
        "print(tensor + 10)\n",
        "print(tensor * 10)\n",
        "print(tensor - 10)"
      ],
      "metadata": {
        "colab": {
          "base_uri": "https://localhost:8080/"
        },
        "id": "F0roOd69UrHz",
        "outputId": "2bc987aa-482c-4c69-ee48-b98a15807f52"
      },
      "execution_count": null,
      "outputs": [
        {
          "output_type": "stream",
          "name": "stdout",
          "text": [
            "tensor([1, 2, 3])\n",
            "tensor([11, 12, 13])\n",
            "tensor([10, 20, 30])\n",
            "tensor([-9, -8, -7])\n"
          ]
        }
      ]
    },
    {
      "cell_type": "code",
      "source": [
        "# performing the same functions using PyTorch build in functions\n",
        "print(torch.add(tensor, 10))\n",
        "print(torch.mul(tensor, 10))\n",
        "print(torch.sub(tensor, 10))"
      ],
      "metadata": {
        "colab": {
          "base_uri": "https://localhost:8080/"
        },
        "id": "WkZje8LGVEUj",
        "outputId": "4e7a60b9-bcc0-4149-8a25-034b2e439d62"
      },
      "execution_count": null,
      "outputs": [
        {
          "output_type": "stream",
          "name": "stdout",
          "text": [
            "tensor([11, 12, 13])\n",
            "tensor([10, 20, 30])\n",
            "tensor([-9, -8, -7])\n"
          ]
        }
      ]
    },
    {
      "cell_type": "markdown",
      "source": [
        "### Matrix Mulitplication\n",
        "\n",
        "There are two main ways of matrix multiplication\n",
        "1. Element wise multiplication\n",
        "2. matrix multiplicatio (dot product)"
      ],
      "metadata": {
        "id": "UarKpTNiVkBY"
      }
    },
    {
      "cell_type": "code",
      "source": [
        "# Element wise multiplication\n",
        "print(tensor, '*', tensor)\n",
        "print(f\"Equals: {tensor*tensor}\")"
      ],
      "metadata": {
        "colab": {
          "base_uri": "https://localhost:8080/"
        },
        "id": "Za-pol7KZ1qb",
        "outputId": "231c82f2-9a70-48de-ba93-77fb6676ea60"
      },
      "execution_count": null,
      "outputs": [
        {
          "output_type": "stream",
          "name": "stdout",
          "text": [
            "tensor([1, 2, 3]) * tensor([1, 2, 3])\n",
            "Equals: tensor([1, 4, 9])\n"
          ]
        }
      ]
    },
    {
      "cell_type": "code",
      "source": [
        "# Matrix Multiplication\n",
        "torch.matmul(tensor,tensor)"
      ],
      "metadata": {
        "colab": {
          "base_uri": "https://localhost:8080/"
        },
        "id": "YLGGZ-OeaRJ_",
        "outputId": "46e152f7-8f3b-4ec8-9c42-e09f41335ae7"
      },
      "execution_count": null,
      "outputs": [
        {
          "output_type": "execute_result",
          "data": {
            "text/plain": [
              "tensor(14)"
            ]
          },
          "metadata": {},
          "execution_count": 34
        }
      ]
    },
    {
      "cell_type": "code",
      "source": [
        "%%time\n",
        "value = 0\n",
        "for i in range(len(tensor)):\n",
        "  value += tensor[i]*tensor[i]\n",
        "print(value)"
      ],
      "metadata": {
        "colab": {
          "base_uri": "https://localhost:8080/"
        },
        "id": "HdCwpVvDae3Z",
        "outputId": "9695b8f8-aee2-45c5-c79b-f658bcd40f38"
      },
      "execution_count": null,
      "outputs": [
        {
          "output_type": "stream",
          "name": "stdout",
          "text": [
            "tensor(14)\n",
            "CPU times: user 722 µs, sys: 775 µs, total: 1.5 ms\n",
            "Wall time: 1.51 ms\n"
          ]
        }
      ]
    },
    {
      "cell_type": "code",
      "source": [
        "%%time\n",
        "torch.matmul(tensor,tensor)"
      ],
      "metadata": {
        "colab": {
          "base_uri": "https://localhost:8080/"
        },
        "id": "NQamCs4ucNWD",
        "outputId": "79a61f87-8f4c-4c4f-943e-def8335ff51d"
      },
      "execution_count": null,
      "outputs": [
        {
          "output_type": "stream",
          "name": "stdout",
          "text": [
            "CPU times: user 33 µs, sys: 5 µs, total: 38 µs\n",
            "Wall time: 42.2 µs\n"
          ]
        },
        {
          "output_type": "execute_result",
          "data": {
            "text/plain": [
              "tensor(14)"
            ]
          },
          "metadata": {},
          "execution_count": 36
        }
      ]
    },
    {
      "cell_type": "code",
      "source": [
        "tensor_A = torch.rand(2,3)\n",
        "tensor_B = torch.rand(3,6)\n",
        "torch.mm(tensor_A, tensor_B) #torch.mm is a short form for torch.matmul"
      ],
      "metadata": {
        "id": "9cnu7DVKcWkY",
        "colab": {
          "base_uri": "https://localhost:8080/"
        },
        "outputId": "37c399b6-3830-4307-8e1b-21bfee3f8dd6"
      },
      "execution_count": null,
      "outputs": [
        {
          "output_type": "execute_result",
          "data": {
            "text/plain": [
              "tensor([[0.7358, 1.5181, 0.9779, 0.2529, 1.1406, 1.6251],\n",
              "        [0.5994, 0.7596, 0.5100, 0.1561, 0.7088, 0.8712]])"
            ]
          },
          "metadata": {},
          "execution_count": 37
        }
      ]
    },
    {
      "cell_type": "markdown",
      "source": [
        "## Transpose\n",
        "This is used to switch the axes or dimmensions of a given tensor\n",
        "\n",
        "To get the transopse of any matrix we use `Matrix_A.T`"
      ],
      "metadata": {
        "id": "MWrz4kfaiMJf"
      }
    },
    {
      "cell_type": "code",
      "source": [
        "tensor_B.shape"
      ],
      "metadata": {
        "colab": {
          "base_uri": "https://localhost:8080/"
        },
        "id": "lt7K90DridJQ",
        "outputId": "c0f76f02-7377-4a29-8bb6-35509c3ea5c5"
      },
      "execution_count": null,
      "outputs": [
        {
          "output_type": "execute_result",
          "data": {
            "text/plain": [
              "torch.Size([3, 6])"
            ]
          },
          "metadata": {},
          "execution_count": 38
        }
      ]
    },
    {
      "cell_type": "code",
      "source": [
        "tensor_B.T.shape"
      ],
      "metadata": {
        "colab": {
          "base_uri": "https://localhost:8080/"
        },
        "id": "zfETS2KJivQO",
        "outputId": "debe2ca2-991b-43ac-e7c4-82142558cff4"
      },
      "execution_count": null,
      "outputs": [
        {
          "output_type": "execute_result",
          "data": {
            "text/plain": [
              "torch.Size([6, 3])"
            ]
          },
          "metadata": {},
          "execution_count": 39
        }
      ]
    },
    {
      "cell_type": "markdown",
      "source": [
        "## Finding the min, max, mean, sum, etc (tensor aggregation)"
      ],
      "metadata": {
        "id": "Cbz98VNuixi1"
      }
    },
    {
      "cell_type": "code",
      "source": [
        "#create a tensor\n",
        "x = torch.arange(1,101,10)\n",
        "x, x.dtype"
      ],
      "metadata": {
        "colab": {
          "base_uri": "https://localhost:8080/"
        },
        "id": "ghHLulM0kT8x",
        "outputId": "c362fd9d-97d2-4c29-d78c-ef1b2633384e"
      },
      "execution_count": null,
      "outputs": [
        {
          "output_type": "execute_result",
          "data": {
            "text/plain": [
              "(tensor([ 1, 11, 21, 31, 41, 51, 61, 71, 81, 91]), torch.int64)"
            ]
          },
          "metadata": {},
          "execution_count": 40
        }
      ]
    },
    {
      "cell_type": "code",
      "source": [
        "#find the min\n",
        "torch.min(x), x.min()"
      ],
      "metadata": {
        "colab": {
          "base_uri": "https://localhost:8080/"
        },
        "id": "RIwiARBumr0g",
        "outputId": "41c72a6b-8d99-46af-83ac-7a14b3238727"
      },
      "execution_count": null,
      "outputs": [
        {
          "output_type": "execute_result",
          "data": {
            "text/plain": [
              "(tensor(1), tensor(1))"
            ]
          },
          "metadata": {},
          "execution_count": 41
        }
      ]
    },
    {
      "cell_type": "code",
      "source": [
        "#find the max\n",
        "torch.max(x), x.max()"
      ],
      "metadata": {
        "colab": {
          "base_uri": "https://localhost:8080/"
        },
        "id": "U22iS5lZm0hD",
        "outputId": "5e27b844-4f2b-4b0c-b86f-ed163a768146"
      },
      "execution_count": null,
      "outputs": [
        {
          "output_type": "execute_result",
          "data": {
            "text/plain": [
              "(tensor(91), tensor(91))"
            ]
          },
          "metadata": {},
          "execution_count": 42
        }
      ]
    },
    {
      "cell_type": "code",
      "source": [
        "#find the sum\n",
        "torch.sum(x), x.sum()"
      ],
      "metadata": {
        "colab": {
          "base_uri": "https://localhost:8080/"
        },
        "id": "CcwBpbvLm4e0",
        "outputId": "4ce0ae35-d4fe-4c39-8c18-69cb7e4e78ad"
      },
      "execution_count": null,
      "outputs": [
        {
          "output_type": "execute_result",
          "data": {
            "text/plain": [
              "(tensor(460), tensor(460))"
            ]
          },
          "metadata": {},
          "execution_count": 43
        }
      ]
    },
    {
      "cell_type": "code",
      "source": [
        "#find the average\n",
        "torch.mean(x.type(torch.float32)),x.type(torch.float32).mean()"
      ],
      "metadata": {
        "colab": {
          "base_uri": "https://localhost:8080/"
        },
        "id": "HvffPRwim-LP",
        "outputId": "79549a4f-0c8f-42f6-bae4-dc5cf436e016"
      },
      "execution_count": null,
      "outputs": [
        {
          "output_type": "execute_result",
          "data": {
            "text/plain": [
              "(tensor(46.), tensor(46.))"
            ]
          },
          "metadata": {},
          "execution_count": 44
        }
      ]
    },
    {
      "cell_type": "markdown",
      "source": [
        "## Finding the positional min and max"
      ],
      "metadata": {
        "id": "LzkOjiB1nC79"
      }
    },
    {
      "cell_type": "code",
      "source": [
        "x"
      ],
      "metadata": {
        "colab": {
          "base_uri": "https://localhost:8080/"
        },
        "id": "tEvj5u5xGPZi",
        "outputId": "00b1f38a-3ee4-4602-bdf8-088673b4b57b"
      },
      "execution_count": null,
      "outputs": [
        {
          "output_type": "execute_result",
          "data": {
            "text/plain": [
              "tensor([ 1, 11, 21, 31, 41, 51, 61, 71, 81, 91])"
            ]
          },
          "metadata": {},
          "execution_count": 45
        }
      ]
    },
    {
      "cell_type": "code",
      "source": [
        " # Find the positon in the tensor which has the minimum value with argmin() -> returns index position of target tensor where the minimum value occurs\n",
        " x.argmin()"
      ],
      "metadata": {
        "colab": {
          "base_uri": "https://localhost:8080/"
        },
        "id": "tv98wpllGROt",
        "outputId": "1d1ccc7c-4871-472c-cb52-3e8a7546d35b"
      },
      "execution_count": null,
      "outputs": [
        {
          "output_type": "execute_result",
          "data": {
            "text/plain": [
              "tensor(0)"
            ]
          },
          "metadata": {},
          "execution_count": 46
        }
      ]
    },
    {
      "cell_type": "code",
      "source": [
        "# Find the position in the tensor which has the maximum value with argmax()\n",
        "x.argmax()"
      ],
      "metadata": {
        "colab": {
          "base_uri": "https://localhost:8080/"
        },
        "id": "Dy1M7oMYGzw7",
        "outputId": "81e7b8b4-5ec3-4ad9-ffcf-43a962de93f0"
      },
      "execution_count": null,
      "outputs": [
        {
          "output_type": "execute_result",
          "data": {
            "text/plain": [
              "tensor(9)"
            ]
          },
          "metadata": {},
          "execution_count": 47
        }
      ]
    },
    {
      "cell_type": "markdown",
      "source": [
        "## Reshaping, stacking, squeezing and unsqueezing tensors\n",
        "\n",
        "* Reshaping - reshapes and input tensor to a definded shape\n",
        "* View - Return a view of an input tensor of certain shape but keep the same memory as the original tensor\n",
        "* Stacking - combine multiple tensors on top of each other(vstack) or side by side (hstack)\n",
        "* Squueze - removes all `1` dimension from a tensor\n",
        "* Unsqueeze - adds a `1` dimension to a target tensor\n",
        "* Permute - Return a view of the input with dimmensions permutted (swapped) in a certain way"
      ],
      "metadata": {
        "id": "mJQIUsRaG6_f"
      }
    },
    {
      "cell_type": "code",
      "source": [
        "# Creating a tensor\n",
        "x = torch.arange(1.,10.)\n",
        "x, x.shape"
      ],
      "metadata": {
        "colab": {
          "base_uri": "https://localhost:8080/"
        },
        "id": "zk1L1XJuI4W1",
        "outputId": "e3e337bc-97ce-48f2-b653-c78f75c33fd9"
      },
      "execution_count": null,
      "outputs": [
        {
          "output_type": "execute_result",
          "data": {
            "text/plain": [
              "(tensor([1., 2., 3., 4., 5., 6., 7., 8., 9.]), torch.Size([9]))"
            ]
          },
          "metadata": {},
          "execution_count": 48
        }
      ]
    },
    {
      "cell_type": "code",
      "source": [
        "# Add an extra dimmension\n",
        "x_reshaped = x.reshape(1,9)\n",
        "x_reshaped, x_reshaped.shape"
      ],
      "metadata": {
        "colab": {
          "base_uri": "https://localhost:8080/"
        },
        "id": "L_qkz3dKM9ea",
        "outputId": "11647770-09a6-469f-b3c9-4b7e6f073b7a"
      },
      "execution_count": null,
      "outputs": [
        {
          "output_type": "execute_result",
          "data": {
            "text/plain": [
              "(tensor([[1., 2., 3., 4., 5., 6., 7., 8., 9.]]), torch.Size([1, 9]))"
            ]
          },
          "metadata": {},
          "execution_count": 49
        }
      ]
    },
    {
      "cell_type": "code",
      "source": [
        "# change the view\n",
        "z = x.view(1,9)\n",
        "z, z.shape"
      ],
      "metadata": {
        "colab": {
          "base_uri": "https://localhost:8080/"
        },
        "id": "gABysmRVNJyp",
        "outputId": "f8418020-4243-455c-e72d-dc273d172483"
      },
      "execution_count": null,
      "outputs": [
        {
          "output_type": "execute_result",
          "data": {
            "text/plain": [
              "(tensor([[1., 2., 3., 4., 5., 6., 7., 8., 9.]]), torch.Size([1, 9]))"
            ]
          },
          "metadata": {},
          "execution_count": 50
        }
      ]
    },
    {
      "cell_type": "code",
      "source": [
        "#changing z changes x (becausse a view of a tensor shares the same memory as the original input)\n",
        "z[:,0] = 5\n",
        "z,x"
      ],
      "metadata": {
        "colab": {
          "base_uri": "https://localhost:8080/"
        },
        "id": "xlM6IZ_2SOcA",
        "outputId": "7dbc508e-cdb0-441a-dd0a-84a8b797f705"
      },
      "execution_count": null,
      "outputs": [
        {
          "output_type": "execute_result",
          "data": {
            "text/plain": [
              "(tensor([[5., 2., 3., 4., 5., 6., 7., 8., 9.]]),\n",
              " tensor([5., 2., 3., 4., 5., 6., 7., 8., 9.]))"
            ]
          },
          "metadata": {},
          "execution_count": 51
        }
      ]
    },
    {
      "cell_type": "code",
      "source": [
        "# Stack tensors on top of each other\n",
        "x_stacked = torch.stack([x,x,x,x], dim = 0)\n",
        "x_stacked"
      ],
      "metadata": {
        "colab": {
          "base_uri": "https://localhost:8080/"
        },
        "id": "Dui9abbMS1VC",
        "outputId": "c3d44005-40fd-4805-8331-73213f577cd1"
      },
      "execution_count": null,
      "outputs": [
        {
          "output_type": "execute_result",
          "data": {
            "text/plain": [
              "tensor([[5., 2., 3., 4., 5., 6., 7., 8., 9.],\n",
              "        [5., 2., 3., 4., 5., 6., 7., 8., 9.],\n",
              "        [5., 2., 3., 4., 5., 6., 7., 8., 9.],\n",
              "        [5., 2., 3., 4., 5., 6., 7., 8., 9.]])"
            ]
          },
          "metadata": {},
          "execution_count": 52
        }
      ]
    },
    {
      "cell_type": "code",
      "source": [
        "# torch.squeeze() - removes all single dimension from a target tensor\n",
        "print(f\"Previous tensor: {x_reshaped}\")\n",
        "print(f\"Previous shape: {x_reshaped.shape}\")\n",
        "\n",
        "#Remove exttra dimension from x_reshaped\n",
        "x_squeezed = x_reshaped.squeeze()\n",
        "print(f\"\\nNew Tensor: {x_squeezed}\")\n",
        "print(f\"New Shape: {x_squeezed.shape}\")"
      ],
      "metadata": {
        "colab": {
          "base_uri": "https://localhost:8080/"
        },
        "id": "E6CwawJETAZH",
        "outputId": "3361c91b-a522-48d0-a672-0e247fcf10c4"
      },
      "execution_count": null,
      "outputs": [
        {
          "output_type": "stream",
          "name": "stdout",
          "text": [
            "Previous tensor: tensor([[5., 2., 3., 4., 5., 6., 7., 8., 9.]])\n",
            "Previous shape: torch.Size([1, 9])\n",
            "\n",
            "New Tensor: tensor([5., 2., 3., 4., 5., 6., 7., 8., 9.])\n",
            "New Shape: torch.Size([9])\n"
          ]
        }
      ]
    },
    {
      "cell_type": "code",
      "source": [
        "# torch.unsqueeze() - adds a single dimension to a target tensor at a specific\n",
        "print(f\"Previous traget: {x_squeezed}\")\n",
        "print(f\"Previous shape: {x_squeezed.shape}\")\n",
        "\n",
        "# Add an extra dimmention with unsqueeze\n",
        "x_unsqueezed = x_squeezed.unsqueeze(dim = 0)\n",
        "x_unsqueezed2 = torch.unsqueeze(x_squeezed,0)\n",
        "print(f\"New tensor 1: {x_unsqueezed}\")\n",
        "print(f\"New tensor 2: {x_unsqueezed2}\")\n",
        "print(f\"New Shape 1 : {x_unsqueezed.shape}\")\n",
        "print(f\"New Shape 2 : {x_unsqueezed2.shape}\")"
      ],
      "metadata": {
        "colab": {
          "base_uri": "https://localhost:8080/"
        },
        "id": "7SLCcIKpyapg",
        "outputId": "8324ba9b-f0d4-4e53-a62e-d21f73d4a5a4"
      },
      "execution_count": null,
      "outputs": [
        {
          "output_type": "stream",
          "name": "stdout",
          "text": [
            "Previous traget: tensor([5., 2., 3., 4., 5., 6., 7., 8., 9.])\n",
            "Previous shape: torch.Size([9])\n",
            "New tensor 1: tensor([[5., 2., 3., 4., 5., 6., 7., 8., 9.]])\n",
            "New tensor 2: tensor([[5., 2., 3., 4., 5., 6., 7., 8., 9.]])\n",
            "New Shape 1 : torch.Size([1, 9])\n",
            "New Shape 2 : torch.Size([1, 9])\n"
          ]
        }
      ]
    },
    {
      "cell_type": "code",
      "source": [
        "# torch.permute - rearranges the dimensions of a target tensor in a specified order\n",
        "x_original = torch.rand(224,224,3)\n",
        "\n",
        "# Permute the original tensor to rearragne the axis (or dim) order\n",
        "x_permutted = x_original.permute(2,0,1)\n",
        "\n",
        "print(f\"Previous shape: {x_original.shape}\")\n",
        "print(f\"New shape: {x_permutted.shape}\")"
      ],
      "metadata": {
        "colab": {
          "base_uri": "https://localhost:8080/"
        },
        "id": "y0XZUXP0k64c",
        "outputId": "ec94c017-e11b-42b0-e4d7-986d63fd2693"
      },
      "execution_count": null,
      "outputs": [
        {
          "output_type": "stream",
          "name": "stdout",
          "text": [
            "Previous shape: torch.Size([224, 224, 3])\n",
            "New shape: torch.Size([3, 224, 224])\n"
          ]
        }
      ]
    },
    {
      "cell_type": "code",
      "source": [
        "x_original[0, 0, 0] = 3\n",
        "x_original\n"
      ],
      "metadata": {
        "colab": {
          "base_uri": "https://localhost:8080/"
        },
        "id": "-4CIkLUoo68w",
        "outputId": "6cda6ab7-a94c-41f5-a595-7149441e9e69"
      },
      "execution_count": null,
      "outputs": [
        {
          "output_type": "execute_result",
          "data": {
            "text/plain": [
              "tensor([[[3.0000, 0.0904, 0.2877],\n",
              "         [0.6668, 0.1682, 0.5646],\n",
              "         [0.3478, 0.5309, 0.8136],\n",
              "         ...,\n",
              "         [0.6076, 0.4108, 0.8717],\n",
              "         [0.2392, 0.6078, 0.1654],\n",
              "         [0.1016, 0.7394, 0.1827]],\n",
              "\n",
              "        [[0.6455, 0.6383, 0.4232],\n",
              "         [0.0125, 0.4173, 0.9170],\n",
              "         [0.3231, 0.7889, 0.9143],\n",
              "         ...,\n",
              "         [0.3686, 0.1154, 0.5140],\n",
              "         [0.8503, 0.9541, 0.4165],\n",
              "         [0.7615, 0.4781, 0.3163]],\n",
              "\n",
              "        [[0.9596, 0.4769, 0.8433],\n",
              "         [0.3025, 0.4281, 0.5300],\n",
              "         [0.0369, 0.4954, 0.9812],\n",
              "         ...,\n",
              "         [0.2684, 0.8902, 0.6271],\n",
              "         [0.3026, 0.9672, 0.4719],\n",
              "         [0.6094, 0.6722, 0.7064]],\n",
              "\n",
              "        ...,\n",
              "\n",
              "        [[0.1580, 0.9420, 0.9549],\n",
              "         [0.7673, 0.6464, 0.9235],\n",
              "         [0.0889, 0.6532, 0.5795],\n",
              "         ...,\n",
              "         [0.5419, 0.0244, 0.4787],\n",
              "         [0.8242, 0.9727, 0.7230],\n",
              "         [0.9185, 0.1472, 0.4763]],\n",
              "\n",
              "        [[0.8922, 0.4462, 0.9924],\n",
              "         [0.1281, 0.6766, 0.9009],\n",
              "         [0.3587, 0.5319, 0.4143],\n",
              "         ...,\n",
              "         [0.7738, 0.6614, 0.0322],\n",
              "         [0.3907, 0.8091, 0.3176],\n",
              "         [0.5419, 0.6748, 0.8301]],\n",
              "\n",
              "        [[0.2843, 0.2086, 0.6295],\n",
              "         [0.6818, 0.6707, 0.9476],\n",
              "         [0.1660, 0.0358, 0.4428],\n",
              "         ...,\n",
              "         [0.3741, 0.8699, 0.2601],\n",
              "         [0.4303, 0.0224, 0.8165],\n",
              "         [0.0494, 0.6197, 0.1605]]])"
            ]
          },
          "metadata": {},
          "execution_count": 56
        }
      ]
    },
    {
      "cell_type": "code",
      "source": [
        "x_permutted"
      ],
      "metadata": {
        "colab": {
          "base_uri": "https://localhost:8080/"
        },
        "id": "fkRGvGy1pSsb",
        "outputId": "964c67f8-5a26-4bff-d297-3fa258cdd335"
      },
      "execution_count": null,
      "outputs": [
        {
          "output_type": "execute_result",
          "data": {
            "text/plain": [
              "tensor([[[3.0000, 0.6668, 0.3478,  ..., 0.6076, 0.2392, 0.1016],\n",
              "         [0.6455, 0.0125, 0.3231,  ..., 0.3686, 0.8503, 0.7615],\n",
              "         [0.9596, 0.3025, 0.0369,  ..., 0.2684, 0.3026, 0.6094],\n",
              "         ...,\n",
              "         [0.1580, 0.7673, 0.0889,  ..., 0.5419, 0.8242, 0.9185],\n",
              "         [0.8922, 0.1281, 0.3587,  ..., 0.7738, 0.3907, 0.5419],\n",
              "         [0.2843, 0.6818, 0.1660,  ..., 0.3741, 0.4303, 0.0494]],\n",
              "\n",
              "        [[0.0904, 0.1682, 0.5309,  ..., 0.4108, 0.6078, 0.7394],\n",
              "         [0.6383, 0.4173, 0.7889,  ..., 0.1154, 0.9541, 0.4781],\n",
              "         [0.4769, 0.4281, 0.4954,  ..., 0.8902, 0.9672, 0.6722],\n",
              "         ...,\n",
              "         [0.9420, 0.6464, 0.6532,  ..., 0.0244, 0.9727, 0.1472],\n",
              "         [0.4462, 0.6766, 0.5319,  ..., 0.6614, 0.8091, 0.6748],\n",
              "         [0.2086, 0.6707, 0.0358,  ..., 0.8699, 0.0224, 0.6197]],\n",
              "\n",
              "        [[0.2877, 0.5646, 0.8136,  ..., 0.8717, 0.1654, 0.1827],\n",
              "         [0.4232, 0.9170, 0.9143,  ..., 0.5140, 0.4165, 0.3163],\n",
              "         [0.8433, 0.5300, 0.9812,  ..., 0.6271, 0.4719, 0.7064],\n",
              "         ...,\n",
              "         [0.9549, 0.9235, 0.5795,  ..., 0.4787, 0.7230, 0.4763],\n",
              "         [0.9924, 0.9009, 0.4143,  ..., 0.0322, 0.3176, 0.8301],\n",
              "         [0.6295, 0.9476, 0.4428,  ..., 0.2601, 0.8165, 0.1605]]])"
            ]
          },
          "metadata": {},
          "execution_count": 57
        }
      ]
    },
    {
      "cell_type": "markdown",
      "source": [
        "## Indexing (selecting data from tensors)\n",
        "\n",
        "Indexing with PyTorch is similar to indexing with NumPy"
      ],
      "metadata": {
        "id": "xJsXAN_bp3LP"
      }
    },
    {
      "cell_type": "code",
      "source": [
        "# Creating a new tensor\n",
        "x = torch.arange(1,10).reshape(1,3,3)\n",
        "x, x.shape"
      ],
      "metadata": {
        "colab": {
          "base_uri": "https://localhost:8080/"
        },
        "id": "-VNMb1ZFqXgw",
        "outputId": "3c633f3c-fb2e-4602-e13a-315e3ffb8302"
      },
      "execution_count": null,
      "outputs": [
        {
          "output_type": "execute_result",
          "data": {
            "text/plain": [
              "(tensor([[[1, 2, 3],\n",
              "          [4, 5, 6],\n",
              "          [7, 8, 9]]]),\n",
              " torch.Size([1, 3, 3]))"
            ]
          },
          "metadata": {},
          "execution_count": 58
        }
      ]
    },
    {
      "cell_type": "code",
      "source": [
        "x[0]"
      ],
      "metadata": {
        "colab": {
          "base_uri": "https://localhost:8080/"
        },
        "id": "PxuQH2zywTWi",
        "outputId": "082972c2-81d6-4786-9436-b5ce0269ebb1"
      },
      "execution_count": null,
      "outputs": [
        {
          "output_type": "execute_result",
          "data": {
            "text/plain": [
              "tensor([[1, 2, 3],\n",
              "        [4, 5, 6],\n",
              "        [7, 8, 9]])"
            ]
          },
          "metadata": {},
          "execution_count": 59
        }
      ]
    },
    {
      "cell_type": "code",
      "source": [
        "x[0][0]"
      ],
      "metadata": {
        "colab": {
          "base_uri": "https://localhost:8080/"
        },
        "id": "EOrLxO310TS4",
        "outputId": "513ccbc0-9cca-4f83-9abc-dfc490836a0f"
      },
      "execution_count": null,
      "outputs": [
        {
          "output_type": "execute_result",
          "data": {
            "text/plain": [
              "tensor([1, 2, 3])"
            ]
          },
          "metadata": {},
          "execution_count": 60
        }
      ]
    },
    {
      "cell_type": "code",
      "source": [
        "x[0][0][0]"
      ],
      "metadata": {
        "colab": {
          "base_uri": "https://localhost:8080/"
        },
        "id": "Iz0BijM40VmI",
        "outputId": "9824b077-e9fd-462a-9226-2c7b97f0e8d8"
      },
      "execution_count": null,
      "outputs": [
        {
          "output_type": "execute_result",
          "data": {
            "text/plain": [
              "tensor(1)"
            ]
          },
          "metadata": {},
          "execution_count": 61
        }
      ]
    },
    {
      "cell_type": "code",
      "source": [
        "x[0][2][2]"
      ],
      "metadata": {
        "id": "RzLSRR5f0Xlg",
        "colab": {
          "base_uri": "https://localhost:8080/"
        },
        "outputId": "64058180-d68f-43c1-a5e2-b15116c13569"
      },
      "execution_count": null,
      "outputs": [
        {
          "output_type": "execute_result",
          "data": {
            "text/plain": [
              "tensor(9)"
            ]
          },
          "metadata": {},
          "execution_count": 62
        }
      ]
    },
    {
      "cell_type": "code",
      "source": [
        "# You can also use \":\" to select \" all\" of a target dimmension\n",
        "x[:,0]"
      ],
      "metadata": {
        "colab": {
          "base_uri": "https://localhost:8080/"
        },
        "id": "OzKUqfGLw3EI",
        "outputId": "5c0b4455-979e-41eb-f81c-c07110ba77fd"
      },
      "execution_count": null,
      "outputs": [
        {
          "output_type": "execute_result",
          "data": {
            "text/plain": [
              "tensor([[1, 2, 3]])"
            ]
          },
          "metadata": {},
          "execution_count": 63
        }
      ]
    },
    {
      "cell_type": "code",
      "source": [
        "x[:,:,0]"
      ],
      "metadata": {
        "colab": {
          "base_uri": "https://localhost:8080/"
        },
        "id": "ONUZgCtww-L2",
        "outputId": "60c51eb4-1338-428b-e666-e4667ce8e17a"
      },
      "execution_count": null,
      "outputs": [
        {
          "output_type": "execute_result",
          "data": {
            "text/plain": [
              "tensor([[1, 4, 7]])"
            ]
          },
          "metadata": {},
          "execution_count": 64
        }
      ]
    },
    {
      "cell_type": "code",
      "source": [
        "x[:,0,:]"
      ],
      "metadata": {
        "colab": {
          "base_uri": "https://localhost:8080/"
        },
        "id": "wQldTqO7xEz7",
        "outputId": "498b3e25-dd9b-4cfd-8fe3-d37f64233fb3"
      },
      "execution_count": null,
      "outputs": [
        {
          "output_type": "execute_result",
          "data": {
            "text/plain": [
              "tensor([[1, 2, 3]])"
            ]
          },
          "metadata": {},
          "execution_count": 65
        }
      ]
    },
    {
      "cell_type": "code",
      "source": [
        "# Get all values of 0th and 1st dimensions but only index 1 of 2nd dimmension\n",
        "x[:,:,1]"
      ],
      "metadata": {
        "colab": {
          "base_uri": "https://localhost:8080/"
        },
        "id": "PDi6W8ojxKmw",
        "outputId": "798ca62f-85ae-4246-a518-124938ad016e"
      },
      "execution_count": null,
      "outputs": [
        {
          "output_type": "execute_result",
          "data": {
            "text/plain": [
              "tensor([[2, 5, 8]])"
            ]
          },
          "metadata": {},
          "execution_count": 66
        }
      ]
    },
    {
      "cell_type": "code",
      "source": [
        "# Get all values of the 0 dimension but only the 1 index value of 1st and 2nd dimension\n",
        "x[:,1,1]"
      ],
      "metadata": {
        "colab": {
          "base_uri": "https://localhost:8080/"
        },
        "id": "MmwCx_hVxgEl",
        "outputId": "fd00ea7a-6ee4-4249-cecc-61a4219cc52c"
      },
      "execution_count": null,
      "outputs": [
        {
          "output_type": "execute_result",
          "data": {
            "text/plain": [
              "tensor([5])"
            ]
          },
          "metadata": {},
          "execution_count": 67
        }
      ]
    },
    {
      "cell_type": "code",
      "source": [
        " # Get index 0 of 0th and 1st dimension and all values of 2nd dimension\n",
        " x[0,0,:]"
      ],
      "metadata": {
        "colab": {
          "base_uri": "https://localhost:8080/"
        },
        "id": "td1_4YtZ1CGm",
        "outputId": "ca2a7f55-b2aa-4958-bc83-df57c4a6ec0b"
      },
      "execution_count": null,
      "outputs": [
        {
          "output_type": "execute_result",
          "data": {
            "text/plain": [
              "tensor([1, 2, 3])"
            ]
          },
          "metadata": {},
          "execution_count": 68
        }
      ]
    },
    {
      "cell_type": "code",
      "source": [
        "# indexing on x to return 3,6,9\n",
        "x[0,:,2]"
      ],
      "metadata": {
        "colab": {
          "base_uri": "https://localhost:8080/"
        },
        "id": "goxfEx9F1SxP",
        "outputId": "5d6a5c65-9978-4c16-bc52-4cc93f741abd"
      },
      "execution_count": null,
      "outputs": [
        {
          "output_type": "execute_result",
          "data": {
            "text/plain": [
              "tensor([3, 6, 9])"
            ]
          },
          "metadata": {},
          "execution_count": 69
        }
      ]
    },
    {
      "cell_type": "markdown",
      "source": [
        "## PyTorch tensors & NumPy\n",
        "\n",
        "NumPy is a popular scientific python numerical computing library.\n",
        "And because of this, PyTorch has functionality to interact with it.\n",
        "* Data in NumPy, want in PyTorch tensor -> `torch.from_numpy(ndarray)`\n",
        "* PyTorch -> NumPy -> `torch.Tensor.numpy()`"
      ],
      "metadata": {
        "id": "asctR31s1sWh"
      }
    },
    {
      "cell_type": "code",
      "source": [
        "array = np.arange(1,8)\n",
        "tensor = torch.from_numpy(array) # to concert to the default dtype `type(torch.float32)`\n",
        "# when converting from numpy to pytorch, it refelects numpy's default datatype of float64 unless specified, whereas the default datatype of tensor is float32\n",
        "array, tensor"
      ],
      "metadata": {
        "colab": {
          "base_uri": "https://localhost:8080/"
        },
        "id": "a2hBeb-72tFU",
        "outputId": "b47bd3c3-b25c-44af-e2ec-3a2a0dd68ecb"
      },
      "execution_count": null,
      "outputs": [
        {
          "output_type": "execute_result",
          "data": {
            "text/plain": [
              "(array([1, 2, 3, 4, 5, 6, 7]), tensor([1, 2, 3, 4, 5, 6, 7]))"
            ]
          },
          "metadata": {},
          "execution_count": 70
        }
      ]
    },
    {
      "cell_type": "code",
      "source": [
        "# change the value of array what will it do to the `tensor`\n",
        "array = array +1\n",
        "array,tensor"
      ],
      "metadata": {
        "colab": {
          "base_uri": "https://localhost:8080/"
        },
        "id": "_e-9CNIT9sBs",
        "outputId": "74f0b785-40ae-4d0a-dee6-3b2ee9e6f64c"
      },
      "execution_count": null,
      "outputs": [
        {
          "output_type": "execute_result",
          "data": {
            "text/plain": [
              "(array([2, 3, 4, 5, 6, 7, 8]), tensor([1, 2, 3, 4, 5, 6, 7]))"
            ]
          },
          "metadata": {},
          "execution_count": 71
        }
      ]
    },
    {
      "cell_type": "markdown",
      "source": [
        "Thus creating a tensor from numpy leads to the creation of a new tensor, thus the new tensor does not change if you change the original array"
      ],
      "metadata": {
        "id": "UrAnimf8-Xuj"
      }
    },
    {
      "cell_type": "code",
      "source": [
        "# Tensor to NumPy array\n",
        "tensor = torch.ones(7)\n",
        "numpy_tensor = tensor.numpy()\n",
        "print(f\"The orignal tensor is: {tensor}\")\n",
        "print(f\"The NumPy converted form tensor is: {numpy_tensor}\")\n",
        "print(f\"The data type of the converted numpy is {numpy_tensor.dtype}\")"
      ],
      "metadata": {
        "colab": {
          "base_uri": "https://localhost:8080/"
        },
        "id": "GxGWa7rN-lMf",
        "outputId": "a676c8b4-b09c-4033-8aa4-90a925d9c6ee"
      },
      "execution_count": null,
      "outputs": [
        {
          "output_type": "stream",
          "name": "stdout",
          "text": [
            "The orignal tensor is: tensor([1., 1., 1., 1., 1., 1., 1.])\n",
            "The NumPy converted form tensor is: [1. 1. 1. 1. 1. 1. 1.]\n",
            "The data type of the converted numpy is float32\n"
          ]
        }
      ]
    },
    {
      "cell_type": "code",
      "source": [
        "#change the tensor and what happens to `numpy_tensor`\n",
        "tensor = tensor + 1\n",
        "tensor, numpy_tensor"
      ],
      "metadata": {
        "colab": {
          "base_uri": "https://localhost:8080/"
        },
        "id": "4nzyaY1yAcC9",
        "outputId": "c7fa5bf9-c205-44e3-d23c-afbd0a258334"
      },
      "execution_count": null,
      "outputs": [
        {
          "output_type": "execute_result",
          "data": {
            "text/plain": [
              "(tensor([2., 2., 2., 2., 2., 2., 2.]),\n",
              " array([1., 1., 1., 1., 1., 1., 1.], dtype=float32))"
            ]
          },
          "metadata": {},
          "execution_count": 73
        }
      ]
    },
    {
      "cell_type": "markdown",
      "source": [
        "We can see here that even after changing the original tensor there is no change in the array which was made from the tensor\n",
        "Thus a new copy is created in the memory when converting from tenosr to numpy, thus changing the original tensor will not change the array"
      ],
      "metadata": {
        "id": "m-KxSwmpAvli"
      }
    },
    {
      "cell_type": "code",
      "source": [
        "## Reproducibility (trying to take random out of random)\n",
        "\n",
        "To reduce the randomness in neural networks and PyTorch comes the concept of a random seed\n"
      ],
      "metadata": {
        "id": "-D-9dMNpFF70"
      },
      "execution_count": null,
      "outputs": []
    }
  ]
}