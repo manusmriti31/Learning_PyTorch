{
  "nbformat": 4,
  "nbformat_minor": 0,
  "metadata": {
    "colab": {
      "provenance": [],
      "authorship_tag": "ABX9TyM6gjvTvVSpiPRdAKfTz5ab",
      "include_colab_link": true
    },
    "kernelspec": {
      "name": "python3",
      "display_name": "Python 3"
    },
    "language_info": {
      "name": "python"
    }
  },
  "cells": [
    {
      "cell_type": "markdown",
      "metadata": {
        "id": "view-in-github",
        "colab_type": "text"
      },
      "source": [
        "<a href=\"https://colab.research.google.com/github/manusmriti31/Learning_PyTorch/blob/main/Video%20notebooks/01_pytorch_workflow_video.ipynb\" target=\"_parent\"><img src=\"https://colab.research.google.com/assets/colab-badge.svg\" alt=\"Open In Colab\"/></a>"
      ]
    },
    {
      "cell_type": "markdown",
      "source": [
        " # PyToch Workflow\n",
        " Let's explore an example PyTorch end-to-end workflow.\n",
        "\n",
        "Resources:\n",
        "* Ground truth notebook - https://github.com/mrdbourke/pytorch-deep-learning/blob/main/01_pytorch_workflow.ipynb\n",
        "* Book version of notebook - https://www.learnpytorch.io/01_pytorch_workflow/"
      ],
      "metadata": {
        "id": "2eIb75aMSo2T"
      }
    },
    {
      "cell_type": "markdown",
      "source": [
        " # What we are covering:\n",
        " 1. Data (prepare and load)\n",
        " 2. Build model\n",
        " 3. Fitting the model to data (training)\n",
        " 4. Making predictions and evaluating a model (inference)\n",
        " 5. Saving and loading a model\n",
        " 6. Putting it all together"
      ],
      "metadata": {
        "id": "8ajkix9bT4mf"
      }
    },
    {
      "cell_type": "code",
      "source": [
        "import torch\n",
        "from torch import nn # nn contains all of PyTorch's building blocks for neural networks\n",
        "import matplotlib.pyplot as plt\n",
        "\n",
        "# Check PyTorch version\n",
        "torch.__version__"
      ],
      "metadata": {
        "colab": {
          "base_uri": "https://localhost:8080/",
          "height": 35
        },
        "id": "CrYrfEiDZzJD",
        "outputId": "7b81b6c1-b583-402d-f242-0056c6f965dd"
      },
      "execution_count": null,
      "outputs": [
        {
          "output_type": "execute_result",
          "data": {
            "text/plain": [
              "'2.4.1+cu121'"
            ],
            "application/vnd.google.colaboratory.intrinsic+json": {
              "type": "string"
            }
          },
          "metadata": {},
          "execution_count": 1
        }
      ]
    },
    {
      "cell_type": "markdown",
      "source": [
        "## 1. Data (preparing and loading)\n",
        "\n",
        "Data can be alomost anything... in machine learining\n",
        "* Excel spreadsheet\n",
        "* Images of any kind\n",
        "* videos (YouTube has lots of data....)\n",
        "* Audio like songs or podcasts\n",
        "* DNA\n",
        "* Text\n",
        "\n",
        "Machine learinging is a game of two parts:\n",
        "1. Get data into a numerical representation.\n",
        "2. Build a model to learn patterns in that numerical representation"
      ],
      "metadata": {
        "id": "cC01ti73pat1"
      }
    },
    {
      "cell_type": "code",
      "source": [
        "f"
      ],
      "metadata": {
        "id": "__Hl04ccprCQ"
      },
      "execution_count": null,
      "outputs": []
    }
  ]
}