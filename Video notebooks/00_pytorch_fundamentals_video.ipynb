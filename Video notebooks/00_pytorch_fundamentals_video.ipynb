{
  "nbformat": 4,
  "nbformat_minor": 0,
  "metadata": {
    "colab": {
      "provenance": [],
      "gpuType": "T4",
      "authorship_tag": "ABX9TyM6DPsZ4JQL2pB/01sFWb4+",
      "include_colab_link": true
    },
    "kernelspec": {
      "name": "python3",
      "display_name": "Python 3"
    },
    "language_info": {
      "name": "python"
    },
    "accelerator": "GPU"
  },
  "cells": [
    {
      "cell_type": "markdown",
      "metadata": {
        "id": "view-in-github",
        "colab_type": "text"
      },
      "source": [
        "<a href=\"https://colab.research.google.com/github/manusmriti31/Learning_PyTorch/blob/main/00_pytorch_fundamentals_video.ipynb\" target=\"_parent\"><img src=\"https://colab.research.google.com/assets/colab-badge.svg\" alt=\"Open In Colab\"/></a>"
      ]
    },
    {
      "cell_type": "code",
      "execution_count": null,
      "metadata": {
        "colab": {
          "base_uri": "https://localhost:8080/"
        },
        "id": "0bzN-idccnxw",
        "outputId": "9edb6a58-c681-48fa-ed1c-90689b8f4202"
      },
      "outputs": [
        {
          "output_type": "stream",
          "name": "stdout",
          "text": [
            "Hello welcome to google collab!\n"
          ]
        }
      ],
      "source": [
        "print(\"Hello welcome to google collab!\")"
      ]
    },
    {
      "cell_type": "code",
      "source": [
        "import torch\n",
        "import pandas as pd\n",
        "import numpy as np\n",
        "import matplotlib.pyplot as plt\n",
        "print(torch.__version__)"
      ],
      "metadata": {
        "colab": {
          "base_uri": "https://localhost:8080/"
        },
        "id": "y-lvSQI_c2eA",
        "outputId": "72546c1d-6c42-4655-dca7-d2ce48c64029"
      },
      "execution_count": null,
      "outputs": [
        {
          "output_type": "stream",
          "name": "stdout",
          "text": [
            "2.4.1+cu121\n"
          ]
        }
      ]
    },
    {
      "cell_type": "markdown",
      "source": [
        " ## Introduction to Tensor\n",
        " ### Crating tensors\n",
        " Pythorch tensors are created using `torch.Tensor()` = https://pytorch.org/docs/stable/tensors.html"
      ],
      "metadata": {
        "id": "VZ3sFpvjdKZ_"
      }
    },
    {
      "cell_type": "code",
      "source": [
        "#scalar\n",
        "scalar = torch.tensor(7)\n",
        "scalar"
      ],
      "metadata": {
        "colab": {
          "base_uri": "https://localhost:8080/"
        },
        "id": "prCDoMkKp6By",
        "outputId": "e9744b1a-8608-43b4-ac80-97fcd7c65172"
      },
      "execution_count": null,
      "outputs": [
        {
          "output_type": "execute_result",
          "data": {
            "text/plain": [
              "tensor(7)"
            ]
          },
          "metadata": {},
          "execution_count": 3
        }
      ]
    },
    {
      "cell_type": "code",
      "source": [
        "scalar.ndim"
      ],
      "metadata": {
        "colab": {
          "base_uri": "https://localhost:8080/"
        },
        "id": "7yjg5rm-qWPW",
        "outputId": "601bcf6d-2400-4b7c-dd85-04fa1c6ad3fe"
      },
      "execution_count": null,
      "outputs": [
        {
          "output_type": "execute_result",
          "data": {
            "text/plain": [
              "0"
            ]
          },
          "metadata": {},
          "execution_count": 4
        }
      ]
    },
    {
      "cell_type": "code",
      "source": [
        "# Get tensor back as Python int\n",
        "scalar.item()"
      ],
      "metadata": {
        "colab": {
          "base_uri": "https://localhost:8080/"
        },
        "id": "0H75NmVKrNpN",
        "outputId": "b3be1e1a-510b-4627-ef4e-6fbafe7efede"
      },
      "execution_count": null,
      "outputs": [
        {
          "output_type": "execute_result",
          "data": {
            "text/plain": [
              "7"
            ]
          },
          "metadata": {},
          "execution_count": 5
        }
      ]
    },
    {
      "cell_type": "code",
      "source": [
        " # Vector\n",
        " vector = torch.tensor([7,7])\n",
        " vector"
      ],
      "metadata": {
        "colab": {
          "base_uri": "https://localhost:8080/"
        },
        "id": "JJ8qhiQNrQHY",
        "outputId": "fabf4759-bcd8-4006-dd19-58aee7339ba3"
      },
      "execution_count": null,
      "outputs": [
        {
          "output_type": "execute_result",
          "data": {
            "text/plain": [
              "tensor([7, 7])"
            ]
          },
          "metadata": {},
          "execution_count": 6
        }
      ]
    },
    {
      "cell_type": "code",
      "source": [
        "vector.ndim"
      ],
      "metadata": {
        "colab": {
          "base_uri": "https://localhost:8080/"
        },
        "id": "N9dg2BfTruWE",
        "outputId": "7df808cf-0715-4cfd-c15a-0be7f8b2a2ec"
      },
      "execution_count": null,
      "outputs": [
        {
          "output_type": "execute_result",
          "data": {
            "text/plain": [
              "1"
            ]
          },
          "metadata": {},
          "execution_count": 7
        }
      ]
    },
    {
      "cell_type": "code",
      "source": [
        " vector.shape"
      ],
      "metadata": {
        "colab": {
          "base_uri": "https://localhost:8080/"
        },
        "id": "HJNgcp0HrwMg",
        "outputId": "85df41d6-0d37-4b78-c776-b1473f9b7208"
      },
      "execution_count": null,
      "outputs": [
        {
          "output_type": "execute_result",
          "data": {
            "text/plain": [
              "torch.Size([2])"
            ]
          },
          "metadata": {},
          "execution_count": 8
        }
      ]
    },
    {
      "cell_type": "code",
      "source": [
        "# MATRIX\n",
        "MATRIX = torch.tensor([[7,8],\n",
        "                       [2,3]])\n",
        "MATRIX"
      ],
      "metadata": {
        "colab": {
          "base_uri": "https://localhost:8080/"
        },
        "id": "K0M3CRcxr8BP",
        "outputId": "6be0cd57-1a74-4129-98ed-c23c92fc39f7"
      },
      "execution_count": null,
      "outputs": [
        {
          "output_type": "execute_result",
          "data": {
            "text/plain": [
              "tensor([[7, 8],\n",
              "        [2, 3]])"
            ]
          },
          "metadata": {},
          "execution_count": 9
        }
      ]
    },
    {
      "cell_type": "code",
      "source": [
        "MATRIX.ndim"
      ],
      "metadata": {
        "colab": {
          "base_uri": "https://localhost:8080/"
        },
        "id": "K-MMWmGBsWjZ",
        "outputId": "d5dadf1c-ab97-4109-9474-478ae1a83c89"
      },
      "execution_count": null,
      "outputs": [
        {
          "output_type": "execute_result",
          "data": {
            "text/plain": [
              "2"
            ]
          },
          "metadata": {},
          "execution_count": 10
        }
      ]
    },
    {
      "cell_type": "code",
      "source": [
        "MATRIX.shape"
      ],
      "metadata": {
        "colab": {
          "base_uri": "https://localhost:8080/"
        },
        "id": "DhF6K6X8sZ4O",
        "outputId": "5c4d3d24-495a-49ea-e9ba-d10b192482f2"
      },
      "execution_count": null,
      "outputs": [
        {
          "output_type": "execute_result",
          "data": {
            "text/plain": [
              "torch.Size([2, 2])"
            ]
          },
          "metadata": {},
          "execution_count": 11
        }
      ]
    },
    {
      "cell_type": "code",
      "source": [
        "# Tensor\n",
        "TENSOR = torch.tensor([[[1,2,3],\n",
        "                        [4,5,6],\n",
        "                        [7,8,9]]])\n",
        "TENSOR\n"
      ],
      "metadata": {
        "colab": {
          "base_uri": "https://localhost:8080/"
        },
        "id": "U3T1mRmjscBw",
        "outputId": "e7b49189-550a-4703-e9ee-0c2d91ce06fa"
      },
      "execution_count": null,
      "outputs": [
        {
          "output_type": "execute_result",
          "data": {
            "text/plain": [
              "tensor([[[1, 2, 3],\n",
              "         [4, 5, 6],\n",
              "         [7, 8, 9]]])"
            ]
          },
          "metadata": {},
          "execution_count": 12
        }
      ]
    },
    {
      "cell_type": "code",
      "source": [
        "TENSOR.ndim"
      ],
      "metadata": {
        "colab": {
          "base_uri": "https://localhost:8080/"
        },
        "id": "-fFuTcImt_Ad",
        "outputId": "1f974715-8e61-4cd4-e5b3-d02177cf40c7"
      },
      "execution_count": null,
      "outputs": [
        {
          "output_type": "execute_result",
          "data": {
            "text/plain": [
              "3"
            ]
          },
          "metadata": {},
          "execution_count": 13
        }
      ]
    },
    {
      "cell_type": "code",
      "source": [
        "TENSOR.shape"
      ],
      "metadata": {
        "colab": {
          "base_uri": "https://localhost:8080/"
        },
        "id": "0Hr00ca4uC_y",
        "outputId": "0b739949-440d-482b-91df-5b0eea40298c"
      },
      "execution_count": null,
      "outputs": [
        {
          "output_type": "execute_result",
          "data": {
            "text/plain": [
              "torch.Size([1, 3, 3])"
            ]
          },
          "metadata": {},
          "execution_count": 14
        }
      ]
    },
    {
      "cell_type": "code",
      "source": [
        "TENSOR[0]"
      ],
      "metadata": {
        "colab": {
          "base_uri": "https://localhost:8080/"
        },
        "id": "g3JbkPXkuEaW",
        "outputId": "a16caf24-0768-4fa3-f37d-1206cbb83c21"
      },
      "execution_count": null,
      "outputs": [
        {
          "output_type": "execute_result",
          "data": {
            "text/plain": [
              "tensor([[1, 2, 3],\n",
              "        [4, 5, 6],\n",
              "        [7, 8, 9]])"
            ]
          },
          "metadata": {},
          "execution_count": 15
        }
      ]
    },
    {
      "cell_type": "markdown",
      "source": [
        "TENSOR[1]\n",
        "\n",
        "This will raise and out of index error"
      ],
      "metadata": {
        "id": "u_qrcyAjuIdo"
      }
    },
    {
      "cell_type": "markdown",
      "source": [
        "### Random tensors\n",
        "\n",
        "why random tensors?\n",
        "\n",
        "Random tensors are important because the way  many  neural networks learn is that they start with tensors full of rnadom numbers and then adjust those random numbers to better represent the data\n",
        "\n",
        "`Start with random numbers -> look at data -> update random numbers -> look at data -> update random numbers`"
      ],
      "metadata": {
        "id": "-kDr_QSEuKG9"
      }
    },
    {
      "cell_type": "code",
      "source": [
        "# Create a random tensor of size (3,4)\n",
        "random_tensor = torch.rand(3,4)\n",
        "random_tensor"
      ],
      "metadata": {
        "colab": {
          "base_uri": "https://localhost:8080/"
        },
        "id": "y9NxV01Fv0sq",
        "outputId": "dabc53cd-958f-42a9-9beb-c90bf2bb3765"
      },
      "execution_count": null,
      "outputs": [
        {
          "output_type": "execute_result",
          "data": {
            "text/plain": [
              "tensor([[0.9341, 0.8918, 0.6610, 0.9471],\n",
              "        [0.3746, 0.8512, 0.5675, 0.3218],\n",
              "        [0.5580, 0.9712, 0.3956, 0.9579]])"
            ]
          },
          "metadata": {},
          "execution_count": 16
        }
      ]
    },
    {
      "cell_type": "code",
      "source": [
        "random_tensor_image_size = torch.rand(size = (224,224,3))\n",
        "random_tensor_image_size.shape, random_tensor_image_size.ndim"
      ],
      "metadata": {
        "colab": {
          "base_uri": "https://localhost:8080/"
        },
        "id": "dU97E009wAvW",
        "outputId": "da6dc6d7-1a7f-403d-c3c1-87004ec5f598"
      },
      "execution_count": null,
      "outputs": [
        {
          "output_type": "execute_result",
          "data": {
            "text/plain": [
              "(torch.Size([224, 224, 3]), 3)"
            ]
          },
          "metadata": {},
          "execution_count": 17
        }
      ]
    },
    {
      "cell_type": "markdown",
      "source": [
        "In the above we can see that in `torch.rand()` in one of the cells we have give as `torch.rand()` and in the other one we have given `torch.rnad(size = )` both the va"
      ],
      "metadata": {
        "id": "0y6wD7cywyUR"
      }
    },
    {
      "cell_type": "markdown",
      "source": [
        "#Zeroes and ones"
      ],
      "metadata": {
        "id": "frwbBgw-H3M_"
      }
    },
    {
      "cell_type": "code",
      "source": [
        "# Create a tensor of all zeros\n",
        "zeros = torch.zeros(3,4)\n",
        "zeros"
      ],
      "metadata": {
        "colab": {
          "base_uri": "https://localhost:8080/"
        },
        "id": "LFVIaYeiH6Ls",
        "outputId": "a28a4382-feb1-489c-b077-13e6d85e0ced"
      },
      "execution_count": null,
      "outputs": [
        {
          "output_type": "execute_result",
          "data": {
            "text/plain": [
              "tensor([[0., 0., 0., 0.],\n",
              "        [0., 0., 0., 0.],\n",
              "        [0., 0., 0., 0.]])"
            ]
          },
          "metadata": {},
          "execution_count": 18
        }
      ]
    },
    {
      "cell_type": "code",
      "source": [
        "# Create a tensor o f all ones\n",
        "ones = torch.ones(3,4)\n",
        "ones"
      ],
      "metadata": {
        "colab": {
          "base_uri": "https://localhost:8080/"
        },
        "id": "APkvuVbzICw9",
        "outputId": "bf379e7e-60ed-4209-c5b7-24f476985017"
      },
      "execution_count": null,
      "outputs": [
        {
          "output_type": "execute_result",
          "data": {
            "text/plain": [
              "tensor([[1., 1., 1., 1.],\n",
              "        [1., 1., 1., 1.],\n",
              "        [1., 1., 1., 1.]])"
            ]
          },
          "metadata": {},
          "execution_count": 19
        }
      ]
    },
    {
      "cell_type": "code",
      "source": [
        "ones.dtype"
      ],
      "metadata": {
        "colab": {
          "base_uri": "https://localhost:8080/"
        },
        "id": "udxpoKcnIfy7",
        "outputId": "7d27e193-d16d-4a55-a36a-15694fd1abe6"
      },
      "execution_count": null,
      "outputs": [
        {
          "output_type": "execute_result",
          "data": {
            "text/plain": [
              "torch.float32"
            ]
          },
          "metadata": {},
          "execution_count": 20
        }
      ]
    },
    {
      "cell_type": "markdown",
      "source": [
        "### Creating a range of tensors and tensors-like"
      ],
      "metadata": {
        "id": "38ufxY74Ioq9"
      }
    },
    {
      "cell_type": "code",
      "source": [
        "# to get a rnage of numbers\n",
        "one_to_ten = torch.arange(1,11)\n",
        "one_to_ten"
      ],
      "metadata": {
        "colab": {
          "base_uri": "https://localhost:8080/"
        },
        "id": "MTdFLUQtJhku",
        "outputId": "20c8a205-c5a6-4e49-8167-1897b26c9bf5"
      },
      "execution_count": null,
      "outputs": [
        {
          "output_type": "execute_result",
          "data": {
            "text/plain": [
              "tensor([ 1,  2,  3,  4,  5,  6,  7,  8,  9, 10])"
            ]
          },
          "metadata": {},
          "execution_count": 21
        }
      ]
    },
    {
      "cell_type": "markdown",
      "source": [
        "This has the format torch.arange(start=0,end,step=1)"
      ],
      "metadata": {
        "id": "5Jg9EQ4xJmne"
      }
    },
    {
      "cell_type": "code",
      "source": [
        "#demonstrating different format of representation\n",
        "range_demo1 = torch.arange(12,50,2)\n",
        "range_demo2 = torch.arange(start = 10, end = 50, step = 2)\n",
        "range_demo1, range_demo2"
      ],
      "metadata": {
        "colab": {
          "base_uri": "https://localhost:8080/"
        },
        "id": "-f9YxErxKXLd",
        "outputId": "fbec2366-36de-4d20-fa01-a11eda90115f"
      },
      "execution_count": null,
      "outputs": [
        {
          "output_type": "execute_result",
          "data": {
            "text/plain": [
              "(tensor([12, 14, 16, 18, 20, 22, 24, 26, 28, 30, 32, 34, 36, 38, 40, 42, 44, 46,\n",
              "         48]),\n",
              " tensor([10, 12, 14, 16, 18, 20, 22, 24, 26, 28, 30, 32, 34, 36, 38, 40, 42, 44,\n",
              "         46, 48]))"
            ]
          },
          "metadata": {},
          "execution_count": 22
        }
      ]
    },
    {
      "cell_type": "code",
      "source": [
        "# Creating a tensor like\n",
        "ten_zeros = torch.zeros_like(input = one_to_ten)\n",
        "ten_zeros"
      ],
      "metadata": {
        "colab": {
          "base_uri": "https://localhost:8080/"
        },
        "id": "q8pgkG7HKy06",
        "outputId": "d127e9c6-561e-435b-c623-94c950bce66a"
      },
      "execution_count": null,
      "outputs": [
        {
          "output_type": "execute_result",
          "data": {
            "text/plain": [
              "tensor([0, 0, 0, 0, 0, 0, 0, 0, 0, 0])"
            ]
          },
          "metadata": {},
          "execution_count": 23
        }
      ]
    },
    {
      "cell_type": "code",
      "source": [
        " float_32_tensor = torch.tensor([3.0,6.1,9.0],dtype = None)\n",
        " float_32_tensor"
      ],
      "metadata": {
        "colab": {
          "base_uri": "https://localhost:8080/"
        },
        "id": "BNKhFxJ7LmvJ",
        "outputId": "5252a594-f3ee-4332-aafb-39caa2396fb2"
      },
      "execution_count": null,
      "outputs": [
        {
          "output_type": "execute_result",
          "data": {
            "text/plain": [
              "tensor([3.0000, 6.1000, 9.0000])"
            ]
          },
          "metadata": {},
          "execution_count": 24
        }
      ]
    },
    {
      "cell_type": "code",
      "source": [
        "float_32_tensor.dtype"
      ],
      "metadata": {
        "colab": {
          "base_uri": "https://localhost:8080/"
        },
        "id": "h68JRWzMQTel",
        "outputId": "9aed115b-928a-4815-defa-4a029e7dfedc"
      },
      "execution_count": null,
      "outputs": [
        {
          "output_type": "execute_result",
          "data": {
            "text/plain": [
              "torch.float32"
            ]
          },
          "metadata": {},
          "execution_count": 25
        }
      ]
    },
    {
      "cell_type": "markdown",
      "source": [
        "#Tensor datatypes\n",
        "**Note:** Tensor datatypes is one of the 3 big errors you'll run into with PyTorch & deep learning:\n",
        "1. Tensors not right datatype\n",
        "2. Tesors not right shape\n",
        "3. Tesnors not on the right device"
      ],
      "metadata": {
        "id": "cTO3Rcr0QYWd"
      }
    },
    {
      "cell_type": "code",
      "source": [
        "# Float 32 tesor\n",
        "float_32_tensor = torch.tensor([3.0,6.0,9.0],\n",
        "                               dtype = None, # what datatype is the tensor (eg. float32 or float16)\n",
        "                               device = None, # what device is your tensor on\n",
        "                               requires_grad = False # wheater or not to track gradients with this tensor operations\n",
        "                               )\n",
        "float_32_tensor"
      ],
      "metadata": {
        "id": "PuKbxn9qTjqj",
        "colab": {
          "base_uri": "https://localhost:8080/"
        },
        "outputId": "6f7ee83c-6751-4ffc-d7e8-20a8c3ec5800"
      },
      "execution_count": null,
      "outputs": [
        {
          "output_type": "execute_result",
          "data": {
            "text/plain": [
              "tensor([3., 6., 9.])"
            ]
          },
          "metadata": {},
          "execution_count": 26
        }
      ]
    },
    {
      "cell_type": "code",
      "source": [
        "float_16_tensor = float_32_tensor.type(torch.float16)\n",
        "float_16_tensor"
      ],
      "metadata": {
        "colab": {
          "base_uri": "https://localhost:8080/"
        },
        "id": "GWnetcMyzS1C",
        "outputId": "adf17d49-4105-4121-ffa7-de4ff775797b"
      },
      "execution_count": null,
      "outputs": [
        {
          "output_type": "execute_result",
          "data": {
            "text/plain": [
              "tensor([3., 6., 9.], dtype=torch.float16)"
            ]
          },
          "metadata": {},
          "execution_count": 27
        }
      ]
    },
    {
      "cell_type": "code",
      "source": [
        "float_16_tensor * float_32_tensor"
      ],
      "metadata": {
        "colab": {
          "base_uri": "https://localhost:8080/"
        },
        "id": "m4K71cRczi3W",
        "outputId": "aab36e01-2818-46be-da9d-19821c34bf89"
      },
      "execution_count": null,
      "outputs": [
        {
          "output_type": "execute_result",
          "data": {
            "text/plain": [
              "tensor([ 9., 36., 81.])"
            ]
          },
          "metadata": {},
          "execution_count": 28
        }
      ]
    },
    {
      "cell_type": "markdown",
      "source": [
        "### Getting information form tensors(tensor attributes)\n",
        "\n",
        "1. Tensors not right datatype- to do get datatype form a tensro, can use `tensor.dtype`\n",
        "2. Tensors not right shape - to get shape from a tenosr, cna use `tensor.shape`\n",
        "3. Tensors not on the right device - to get deice from a tensor, can use `tensor.device`"
      ],
      "metadata": {
        "id": "ZCVClG1Izut7"
      }
    },
    {
      "cell_type": "code",
      "source": [
        "# Creating a tensor\n",
        "some_tensor = torch.rand([3,4])\n",
        "some_tensor"
      ],
      "metadata": {
        "colab": {
          "base_uri": "https://localhost:8080/"
        },
        "id": "JXg1UK991mby",
        "outputId": "a04fa7af-5013-4714-eec9-d0743c093421"
      },
      "execution_count": null,
      "outputs": [
        {
          "output_type": "execute_result",
          "data": {
            "text/plain": [
              "tensor([[0.4412, 0.8760, 0.9317, 0.7956],\n",
              "        [0.7337, 0.0154, 0.1169, 0.6856],\n",
              "        [0.8858, 0.4025, 0.3180, 0.9520]])"
            ]
          },
          "metadata": {},
          "execution_count": 29
        }
      ]
    },
    {
      "cell_type": "code",
      "source": [
        "print(some_tensor)\n",
        "print(some_tensor.dtype)\n",
        "print(some_tensor.shape) #some_tensor.size() `.size() is a function whereas .shape is an attribute\n",
        "print(some_tensor.device)"
      ],
      "metadata": {
        "colab": {
          "base_uri": "https://localhost:8080/"
        },
        "id": "iSMoARsIT42W",
        "outputId": "6011c472-46c7-4f96-9477-22bb7ef2e6e5"
      },
      "execution_count": null,
      "outputs": [
        {
          "output_type": "stream",
          "name": "stdout",
          "text": [
            "tensor([[0.4412, 0.8760, 0.9317, 0.7956],\n",
            "        [0.7337, 0.0154, 0.1169, 0.6856],\n",
            "        [0.8858, 0.4025, 0.3180, 0.9520]])\n",
            "torch.float32\n",
            "torch.Size([3, 4])\n",
            "cpu\n"
          ]
        }
      ]
    },
    {
      "cell_type": "markdown",
      "source": [
        "### Manipulating Tensors (tensor operations)\n",
        "Tensor operations include:\n",
        "* Addition\n",
        "* Substraction\n",
        "* Multiplication (element-wise)\n",
        "* Division\n",
        "* Matrix Multiplication"
      ],
      "metadata": {
        "id": "V5xnUl0yUDHb"
      }
    },
    {
      "cell_type": "code",
      "source": [
        "# Create a tensor and perform the above oberations with the help of python functions\n",
        "tensor = torch.tensor([1,2,3])\n",
        "print(tensor)\n",
        "print(tensor + 10)\n",
        "print(tensor * 10)\n",
        "print(tensor - 10)"
      ],
      "metadata": {
        "colab": {
          "base_uri": "https://localhost:8080/"
        },
        "id": "F0roOd69UrHz",
        "outputId": "277402f7-1b3d-4db6-dca7-98528a6c2dea"
      },
      "execution_count": null,
      "outputs": [
        {
          "output_type": "stream",
          "name": "stdout",
          "text": [
            "tensor([1, 2, 3])\n",
            "tensor([11, 12, 13])\n",
            "tensor([10, 20, 30])\n",
            "tensor([-9, -8, -7])\n"
          ]
        }
      ]
    },
    {
      "cell_type": "code",
      "source": [
        "# performing the same functions using PyTorch build in functions\n",
        "print(torch.add(tensor, 10))\n",
        "print(torch.mul(tensor, 10))\n",
        "print(torch.sub(tensor, 10))"
      ],
      "metadata": {
        "colab": {
          "base_uri": "https://localhost:8080/"
        },
        "id": "WkZje8LGVEUj",
        "outputId": "f5400f36-62ea-4e76-ea69-17bb19ef8c35"
      },
      "execution_count": null,
      "outputs": [
        {
          "output_type": "stream",
          "name": "stdout",
          "text": [
            "tensor([11, 12, 13])\n",
            "tensor([10, 20, 30])\n",
            "tensor([-9, -8, -7])\n"
          ]
        }
      ]
    },
    {
      "cell_type": "markdown",
      "source": [
        "### Matrix Mulitplication\n",
        "\n",
        "There are two main ways of matrix multiplication\n",
        "1. Element wise multiplication\n",
        "2. matrix multiplicatio (dot product)"
      ],
      "metadata": {
        "id": "UarKpTNiVkBY"
      }
    },
    {
      "cell_type": "code",
      "source": [
        "# Element wise multiplication\n",
        "print(tensor, '*', tensor)\n",
        "print(f\"Equals: {tensor*tensor}\")"
      ],
      "metadata": {
        "colab": {
          "base_uri": "https://localhost:8080/"
        },
        "id": "Za-pol7KZ1qb",
        "outputId": "f4640e6f-6634-4ebe-bf4f-fae29b5537f9"
      },
      "execution_count": null,
      "outputs": [
        {
          "output_type": "stream",
          "name": "stdout",
          "text": [
            "tensor([1, 2, 3]) * tensor([1, 2, 3])\n",
            "Equals: tensor([1, 4, 9])\n"
          ]
        }
      ]
    },
    {
      "cell_type": "code",
      "source": [
        "# Matrix Multiplication\n",
        "torch.matmul(tensor,tensor)"
      ],
      "metadata": {
        "colab": {
          "base_uri": "https://localhost:8080/"
        },
        "id": "YLGGZ-OeaRJ_",
        "outputId": "55894fd4-26bb-498d-cad8-91d7104fb331"
      },
      "execution_count": null,
      "outputs": [
        {
          "output_type": "execute_result",
          "data": {
            "text/plain": [
              "tensor(14)"
            ]
          },
          "metadata": {},
          "execution_count": 34
        }
      ]
    },
    {
      "cell_type": "code",
      "source": [
        "%%time\n",
        "value = 0\n",
        "for i in range(len(tensor)):\n",
        "  value += tensor[i]*tensor[i]\n",
        "print(value)"
      ],
      "metadata": {
        "colab": {
          "base_uri": "https://localhost:8080/"
        },
        "id": "HdCwpVvDae3Z",
        "outputId": "b32e2ddd-159b-4790-dc46-ed89a7620ed0"
      },
      "execution_count": null,
      "outputs": [
        {
          "output_type": "stream",
          "name": "stdout",
          "text": [
            "tensor(14)\n",
            "CPU times: user 2.65 ms, sys: 119 µs, total: 2.77 ms\n",
            "Wall time: 11.1 ms\n"
          ]
        }
      ]
    },
    {
      "cell_type": "code",
      "source": [
        "%%time\n",
        "torch.matmul(tensor,tensor)"
      ],
      "metadata": {
        "colab": {
          "base_uri": "https://localhost:8080/"
        },
        "id": "NQamCs4ucNWD",
        "outputId": "141486fb-2711-4a8d-f6a5-025ed23a06a3"
      },
      "execution_count": null,
      "outputs": [
        {
          "output_type": "stream",
          "name": "stdout",
          "text": [
            "CPU times: user 62 µs, sys: 11 µs, total: 73 µs\n",
            "Wall time: 77.5 µs\n"
          ]
        },
        {
          "output_type": "execute_result",
          "data": {
            "text/plain": [
              "tensor(14)"
            ]
          },
          "metadata": {},
          "execution_count": 36
        }
      ]
    },
    {
      "cell_type": "code",
      "source": [
        "tensor_A = torch.rand(2,3)\n",
        "tensor_B = torch.rand(3,6)\n",
        "torch.mm(tensor_A, tensor_B) #torch.mm is a short form for torch.matmul"
      ],
      "metadata": {
        "id": "9cnu7DVKcWkY",
        "colab": {
          "base_uri": "https://localhost:8080/"
        },
        "outputId": "5b6c9412-da78-4d62-e60c-2f1f68ba7152"
      },
      "execution_count": null,
      "outputs": [
        {
          "output_type": "execute_result",
          "data": {
            "text/plain": [
              "tensor([[1.0084, 0.5817, 0.9838, 0.5770, 1.2475, 0.8872],\n",
              "        [1.1652, 0.6745, 1.0954, 0.6075, 1.0700, 0.9542]])"
            ]
          },
          "metadata": {},
          "execution_count": 37
        }
      ]
    },
    {
      "cell_type": "markdown",
      "source": [
        "## Transpose\n",
        "This is used to switch the axes or dimmensions of a given tensor\n",
        "\n",
        "To get the transopse of any matrix we use `Matrix_A.T`"
      ],
      "metadata": {
        "id": "MWrz4kfaiMJf"
      }
    },
    {
      "cell_type": "code",
      "source": [
        "tensor_B.shape"
      ],
      "metadata": {
        "colab": {
          "base_uri": "https://localhost:8080/"
        },
        "id": "lt7K90DridJQ",
        "outputId": "7e10b2a7-061a-4196-de10-db1c1ad6afae"
      },
      "execution_count": null,
      "outputs": [
        {
          "output_type": "execute_result",
          "data": {
            "text/plain": [
              "torch.Size([3, 6])"
            ]
          },
          "metadata": {},
          "execution_count": 38
        }
      ]
    },
    {
      "cell_type": "code",
      "source": [
        "tensor_B.T.shape"
      ],
      "metadata": {
        "colab": {
          "base_uri": "https://localhost:8080/"
        },
        "id": "zfETS2KJivQO",
        "outputId": "fdb7a9f5-702a-4955-ee53-7a7f845633da"
      },
      "execution_count": null,
      "outputs": [
        {
          "output_type": "execute_result",
          "data": {
            "text/plain": [
              "torch.Size([6, 3])"
            ]
          },
          "metadata": {},
          "execution_count": 39
        }
      ]
    },
    {
      "cell_type": "markdown",
      "source": [
        "## Finding the min, max, mean, sum, etc (tensor aggregation)"
      ],
      "metadata": {
        "id": "Cbz98VNuixi1"
      }
    },
    {
      "cell_type": "code",
      "source": [
        "#create a tensor\n",
        "x = torch.arange(1,101,10)\n",
        "x, x.dtype"
      ],
      "metadata": {
        "colab": {
          "base_uri": "https://localhost:8080/"
        },
        "id": "ghHLulM0kT8x",
        "outputId": "88367a74-6033-4fff-b0ae-edbf4aa18dc1"
      },
      "execution_count": null,
      "outputs": [
        {
          "output_type": "execute_result",
          "data": {
            "text/plain": [
              "(tensor([ 1, 11, 21, 31, 41, 51, 61, 71, 81, 91]), torch.int64)"
            ]
          },
          "metadata": {},
          "execution_count": 40
        }
      ]
    },
    {
      "cell_type": "code",
      "source": [
        "#find the min\n",
        "torch.min(x), x.min()"
      ],
      "metadata": {
        "colab": {
          "base_uri": "https://localhost:8080/"
        },
        "id": "RIwiARBumr0g",
        "outputId": "de6c8575-2b81-4c3b-eb5d-44f7e1c22a23"
      },
      "execution_count": null,
      "outputs": [
        {
          "output_type": "execute_result",
          "data": {
            "text/plain": [
              "(tensor(1), tensor(1))"
            ]
          },
          "metadata": {},
          "execution_count": 41
        }
      ]
    },
    {
      "cell_type": "code",
      "source": [
        "#find the max\n",
        "torch.max(x), x.max()"
      ],
      "metadata": {
        "colab": {
          "base_uri": "https://localhost:8080/"
        },
        "id": "U22iS5lZm0hD",
        "outputId": "f0cc4a80-8c07-4817-801c-5c2b74462d39"
      },
      "execution_count": null,
      "outputs": [
        {
          "output_type": "execute_result",
          "data": {
            "text/plain": [
              "(tensor(91), tensor(91))"
            ]
          },
          "metadata": {},
          "execution_count": 42
        }
      ]
    },
    {
      "cell_type": "code",
      "source": [
        "#find the sum\n",
        "torch.sum(x), x.sum()"
      ],
      "metadata": {
        "colab": {
          "base_uri": "https://localhost:8080/"
        },
        "id": "CcwBpbvLm4e0",
        "outputId": "18d9cf12-4265-47d8-d2f8-8f34a529e964"
      },
      "execution_count": null,
      "outputs": [
        {
          "output_type": "execute_result",
          "data": {
            "text/plain": [
              "(tensor(460), tensor(460))"
            ]
          },
          "metadata": {},
          "execution_count": 43
        }
      ]
    },
    {
      "cell_type": "code",
      "source": [
        "#find the average\n",
        "torch.mean(x.type(torch.float32)),x.type(torch.float32).mean()"
      ],
      "metadata": {
        "colab": {
          "base_uri": "https://localhost:8080/"
        },
        "id": "HvffPRwim-LP",
        "outputId": "48ea5afa-f4c3-4510-c926-c52b2db4fc26"
      },
      "execution_count": null,
      "outputs": [
        {
          "output_type": "execute_result",
          "data": {
            "text/plain": [
              "(tensor(46.), tensor(46.))"
            ]
          },
          "metadata": {},
          "execution_count": 44
        }
      ]
    },
    {
      "cell_type": "markdown",
      "source": [
        "## Finding the positional min and max"
      ],
      "metadata": {
        "id": "LzkOjiB1nC79"
      }
    },
    {
      "cell_type": "code",
      "source": [
        "x"
      ],
      "metadata": {
        "colab": {
          "base_uri": "https://localhost:8080/"
        },
        "id": "tEvj5u5xGPZi",
        "outputId": "bcc514a6-0611-4a14-d93e-3c63dccf32d8"
      },
      "execution_count": null,
      "outputs": [
        {
          "output_type": "execute_result",
          "data": {
            "text/plain": [
              "tensor([ 1, 11, 21, 31, 41, 51, 61, 71, 81, 91])"
            ]
          },
          "metadata": {},
          "execution_count": 45
        }
      ]
    },
    {
      "cell_type": "code",
      "source": [
        " # Find the positon in the tensor which has the minimum value with argmin() -> returns index position of target tensor where the minimum value occurs\n",
        " x.argmin()"
      ],
      "metadata": {
        "colab": {
          "base_uri": "https://localhost:8080/"
        },
        "id": "tv98wpllGROt",
        "outputId": "e512d3ae-7ecd-4f62-c31a-d98c89b6bdc2"
      },
      "execution_count": null,
      "outputs": [
        {
          "output_type": "execute_result",
          "data": {
            "text/plain": [
              "tensor(0)"
            ]
          },
          "metadata": {},
          "execution_count": 46
        }
      ]
    },
    {
      "cell_type": "code",
      "source": [
        "# Find the position in the tensor which has the maximum value with argmax()\n",
        "x.argmax()"
      ],
      "metadata": {
        "colab": {
          "base_uri": "https://localhost:8080/"
        },
        "id": "Dy1M7oMYGzw7",
        "outputId": "6192c6b8-f534-4420-844e-116629ec522b"
      },
      "execution_count": null,
      "outputs": [
        {
          "output_type": "execute_result",
          "data": {
            "text/plain": [
              "tensor(9)"
            ]
          },
          "metadata": {},
          "execution_count": 47
        }
      ]
    },
    {
      "cell_type": "markdown",
      "source": [
        "## Reshaping, stacking, squeezing and unsqueezing tensors\n",
        "\n",
        "* Reshaping - reshapes and input tensor to a definded shape\n",
        "* View - Return a view of an input tensor of certain shape but keep the same memory as the original tensor\n",
        "* Stacking - combine multiple tensors on top of each other(vstack) or side by side (hstack)\n",
        "* Squueze - removes all `1` dimension from a tensor\n",
        "* Unsqueeze - adds a `1` dimension to a target tensor\n",
        "* Permute - Return a view of the input with dimmensions permutted (swapped) in a certain way"
      ],
      "metadata": {
        "id": "mJQIUsRaG6_f"
      }
    },
    {
      "cell_type": "code",
      "source": [
        "# Creating a tensor\n",
        "x = torch.arange(1.,10.)\n",
        "x, x.shape"
      ],
      "metadata": {
        "colab": {
          "base_uri": "https://localhost:8080/"
        },
        "id": "zk1L1XJuI4W1",
        "outputId": "09e3d2be-ee20-44a9-fd24-bd5097903226"
      },
      "execution_count": null,
      "outputs": [
        {
          "output_type": "execute_result",
          "data": {
            "text/plain": [
              "(tensor([1., 2., 3., 4., 5., 6., 7., 8., 9.]), torch.Size([9]))"
            ]
          },
          "metadata": {},
          "execution_count": 48
        }
      ]
    },
    {
      "cell_type": "code",
      "source": [
        "# Add an extra dimmension\n",
        "x_reshaped = x.reshape(1,9)\n",
        "x_reshaped, x_reshaped.shape"
      ],
      "metadata": {
        "colab": {
          "base_uri": "https://localhost:8080/"
        },
        "id": "L_qkz3dKM9ea",
        "outputId": "70c25abd-1f18-4a94-b1b7-88ce50c31941"
      },
      "execution_count": null,
      "outputs": [
        {
          "output_type": "execute_result",
          "data": {
            "text/plain": [
              "(tensor([[1., 2., 3., 4., 5., 6., 7., 8., 9.]]), torch.Size([1, 9]))"
            ]
          },
          "metadata": {},
          "execution_count": 49
        }
      ]
    },
    {
      "cell_type": "code",
      "source": [
        "# change the view\n",
        "z = x.view(1,9)\n",
        "z, z.shape"
      ],
      "metadata": {
        "colab": {
          "base_uri": "https://localhost:8080/"
        },
        "id": "gABysmRVNJyp",
        "outputId": "5332b32b-6924-4fbd-f6c4-73d7307bf753"
      },
      "execution_count": null,
      "outputs": [
        {
          "output_type": "execute_result",
          "data": {
            "text/plain": [
              "(tensor([[1., 2., 3., 4., 5., 6., 7., 8., 9.]]), torch.Size([1, 9]))"
            ]
          },
          "metadata": {},
          "execution_count": 50
        }
      ]
    },
    {
      "cell_type": "code",
      "source": [
        "#changing z changes x (becausse a view of a tensor shares the same memory as the original input)\n",
        "z[:,0] = 5\n",
        "z,x"
      ],
      "metadata": {
        "colab": {
          "base_uri": "https://localhost:8080/"
        },
        "id": "xlM6IZ_2SOcA",
        "outputId": "bdf60a02-363e-4423-eba3-f5e07a0e9744"
      },
      "execution_count": null,
      "outputs": [
        {
          "output_type": "execute_result",
          "data": {
            "text/plain": [
              "(tensor([[5., 2., 3., 4., 5., 6., 7., 8., 9.]]),\n",
              " tensor([5., 2., 3., 4., 5., 6., 7., 8., 9.]))"
            ]
          },
          "metadata": {},
          "execution_count": 51
        }
      ]
    },
    {
      "cell_type": "code",
      "source": [
        "# Stack tensors on top of each other\n",
        "x_stacked = torch.stack([x,x,x,x], dim = 0)\n",
        "x_stacked"
      ],
      "metadata": {
        "colab": {
          "base_uri": "https://localhost:8080/"
        },
        "id": "Dui9abbMS1VC",
        "outputId": "036db3d2-abd9-48ca-e738-3b6d564da936"
      },
      "execution_count": null,
      "outputs": [
        {
          "output_type": "execute_result",
          "data": {
            "text/plain": [
              "tensor([[5., 2., 3., 4., 5., 6., 7., 8., 9.],\n",
              "        [5., 2., 3., 4., 5., 6., 7., 8., 9.],\n",
              "        [5., 2., 3., 4., 5., 6., 7., 8., 9.],\n",
              "        [5., 2., 3., 4., 5., 6., 7., 8., 9.]])"
            ]
          },
          "metadata": {},
          "execution_count": 52
        }
      ]
    },
    {
      "cell_type": "code",
      "source": [
        "# torch.squeeze() - removes all single dimension from a target tensor\n",
        "print(f\"Previous tensor: {x_reshaped}\")\n",
        "print(f\"Previous shape: {x_reshaped.shape}\")\n",
        "\n",
        "#Remove exttra dimension from x_reshaped\n",
        "x_squeezed = x_reshaped.squeeze()\n",
        "print(f\"\\nNew Tensor: {x_squeezed}\")\n",
        "print(f\"New Shape: {x_squeezed.shape}\")"
      ],
      "metadata": {
        "colab": {
          "base_uri": "https://localhost:8080/"
        },
        "id": "E6CwawJETAZH",
        "outputId": "85486653-3716-4d1d-bc79-3605c46c80a1"
      },
      "execution_count": null,
      "outputs": [
        {
          "output_type": "stream",
          "name": "stdout",
          "text": [
            "Previous tensor: tensor([[5., 2., 3., 4., 5., 6., 7., 8., 9.]])\n",
            "Previous shape: torch.Size([1, 9])\n",
            "\n",
            "New Tensor: tensor([5., 2., 3., 4., 5., 6., 7., 8., 9.])\n",
            "New Shape: torch.Size([9])\n"
          ]
        }
      ]
    },
    {
      "cell_type": "code",
      "source": [
        "# torch.unsqueeze() - adds a single dimension to a target tensor at a specific\n",
        "print(f\"Previous traget: {x_squeezed}\")\n",
        "print(f\"Previous shape: {x_squeezed.shape}\")\n",
        "\n",
        "# Add an extra dimmention with unsqueeze\n",
        "x_unsqueezed = x_squeezed.unsqueeze(dim = 0)\n",
        "x_unsqueezed2 = torch.unsqueeze(x_squeezed,0)\n",
        "print(f\"New tensor 1: {x_unsqueezed}\")\n",
        "print(f\"New tensor 2: {x_unsqueezed2}\")\n",
        "print(f\"New Shape 1 : {x_unsqueezed.shape}\")\n",
        "print(f\"New Shape 2 : {x_unsqueezed2.shape}\")"
      ],
      "metadata": {
        "colab": {
          "base_uri": "https://localhost:8080/"
        },
        "id": "7SLCcIKpyapg",
        "outputId": "f93ad2e6-5fa5-4ac7-8ccf-b5aadaa49fc5"
      },
      "execution_count": null,
      "outputs": [
        {
          "output_type": "stream",
          "name": "stdout",
          "text": [
            "Previous traget: tensor([5., 2., 3., 4., 5., 6., 7., 8., 9.])\n",
            "Previous shape: torch.Size([9])\n",
            "New tensor 1: tensor([[5., 2., 3., 4., 5., 6., 7., 8., 9.]])\n",
            "New tensor 2: tensor([[5., 2., 3., 4., 5., 6., 7., 8., 9.]])\n",
            "New Shape 1 : torch.Size([1, 9])\n",
            "New Shape 2 : torch.Size([1, 9])\n"
          ]
        }
      ]
    },
    {
      "cell_type": "code",
      "source": [
        "# torch.permute - rearranges the dimensions of a target tensor in a specified order\n",
        "x_original = torch.rand(224,224,3)\n",
        "\n",
        "# Permute the original tensor to rearragne the axis (or dim) order\n",
        "x_permutted = x_original.permute(2,0,1)\n",
        "\n",
        "print(f\"Previous shape: {x_original.shape}\")\n",
        "print(f\"New shape: {x_permutted.shape}\")"
      ],
      "metadata": {
        "colab": {
          "base_uri": "https://localhost:8080/"
        },
        "id": "y0XZUXP0k64c",
        "outputId": "21d2e247-fd51-44aa-87d9-edd1649176d6"
      },
      "execution_count": null,
      "outputs": [
        {
          "output_type": "stream",
          "name": "stdout",
          "text": [
            "Previous shape: torch.Size([224, 224, 3])\n",
            "New shape: torch.Size([3, 224, 224])\n"
          ]
        }
      ]
    },
    {
      "cell_type": "code",
      "source": [
        "x_original[0, 0, 0] = 3\n",
        "x_original\n"
      ],
      "metadata": {
        "colab": {
          "base_uri": "https://localhost:8080/"
        },
        "id": "-4CIkLUoo68w",
        "outputId": "182ceef4-beb5-4585-af7f-bbe4758c2cea"
      },
      "execution_count": null,
      "outputs": [
        {
          "output_type": "execute_result",
          "data": {
            "text/plain": [
              "tensor([[[3.0000, 0.0237, 0.4027],\n",
              "         [0.9240, 0.7436, 0.0874],\n",
              "         [0.3254, 0.7935, 0.4516],\n",
              "         ...,\n",
              "         [0.4281, 0.0069, 0.3758],\n",
              "         [0.8399, 0.2207, 0.8216],\n",
              "         [0.7630, 0.8795, 0.2681]],\n",
              "\n",
              "        [[0.1298, 0.4161, 0.8912],\n",
              "         [0.6630, 0.1587, 0.7790],\n",
              "         [0.2418, 0.6381, 0.7049],\n",
              "         ...,\n",
              "         [0.6848, 0.0482, 0.7849],\n",
              "         [0.7584, 0.8424, 0.9522],\n",
              "         [0.0645, 0.6245, 0.9042]],\n",
              "\n",
              "        [[0.8989, 0.7526, 0.3898],\n",
              "         [0.8392, 0.9358, 0.0110],\n",
              "         [0.1123, 0.6352, 0.5517],\n",
              "         ...,\n",
              "         [0.1245, 0.6070, 0.2610],\n",
              "         [0.8201, 0.6894, 0.5784],\n",
              "         [0.5399, 0.9965, 0.3053]],\n",
              "\n",
              "        ...,\n",
              "\n",
              "        [[0.2747, 0.4316, 0.6635],\n",
              "         [0.4738, 0.3103, 0.1630],\n",
              "         [0.8408, 0.5547, 0.9812],\n",
              "         ...,\n",
              "         [0.9277, 0.1532, 0.5986],\n",
              "         [0.5418, 0.1263, 0.6722],\n",
              "         [0.1470, 0.3521, 0.5097]],\n",
              "\n",
              "        [[0.7140, 0.2937, 0.7704],\n",
              "         [0.3763, 0.5759, 0.6322],\n",
              "         [0.1984, 0.9268, 0.2168],\n",
              "         ...,\n",
              "         [0.8619, 0.7643, 0.3104],\n",
              "         [0.8151, 0.5663, 0.9716],\n",
              "         [0.8124, 0.0342, 0.2224]],\n",
              "\n",
              "        [[0.3822, 0.9652, 0.1087],\n",
              "         [0.2975, 0.3002, 0.2071],\n",
              "         [0.0960, 0.0067, 0.8611],\n",
              "         ...,\n",
              "         [0.8870, 0.0537, 0.8673],\n",
              "         [0.2398, 0.3798, 0.1567],\n",
              "         [0.1766, 0.3666, 0.1723]]])"
            ]
          },
          "metadata": {},
          "execution_count": 56
        }
      ]
    },
    {
      "cell_type": "code",
      "source": [
        "x_permutted"
      ],
      "metadata": {
        "colab": {
          "base_uri": "https://localhost:8080/"
        },
        "id": "fkRGvGy1pSsb",
        "outputId": "f7d347fa-cafd-419a-c70a-675b923e9dba"
      },
      "execution_count": null,
      "outputs": [
        {
          "output_type": "execute_result",
          "data": {
            "text/plain": [
              "tensor([[[3.0000, 0.9240, 0.3254,  ..., 0.4281, 0.8399, 0.7630],\n",
              "         [0.1298, 0.6630, 0.2418,  ..., 0.6848, 0.7584, 0.0645],\n",
              "         [0.8989, 0.8392, 0.1123,  ..., 0.1245, 0.8201, 0.5399],\n",
              "         ...,\n",
              "         [0.2747, 0.4738, 0.8408,  ..., 0.9277, 0.5418, 0.1470],\n",
              "         [0.7140, 0.3763, 0.1984,  ..., 0.8619, 0.8151, 0.8124],\n",
              "         [0.3822, 0.2975, 0.0960,  ..., 0.8870, 0.2398, 0.1766]],\n",
              "\n",
              "        [[0.0237, 0.7436, 0.7935,  ..., 0.0069, 0.2207, 0.8795],\n",
              "         [0.4161, 0.1587, 0.6381,  ..., 0.0482, 0.8424, 0.6245],\n",
              "         [0.7526, 0.9358, 0.6352,  ..., 0.6070, 0.6894, 0.9965],\n",
              "         ...,\n",
              "         [0.4316, 0.3103, 0.5547,  ..., 0.1532, 0.1263, 0.3521],\n",
              "         [0.2937, 0.5759, 0.9268,  ..., 0.7643, 0.5663, 0.0342],\n",
              "         [0.9652, 0.3002, 0.0067,  ..., 0.0537, 0.3798, 0.3666]],\n",
              "\n",
              "        [[0.4027, 0.0874, 0.4516,  ..., 0.3758, 0.8216, 0.2681],\n",
              "         [0.8912, 0.7790, 0.7049,  ..., 0.7849, 0.9522, 0.9042],\n",
              "         [0.3898, 0.0110, 0.5517,  ..., 0.2610, 0.5784, 0.3053],\n",
              "         ...,\n",
              "         [0.6635, 0.1630, 0.9812,  ..., 0.5986, 0.6722, 0.5097],\n",
              "         [0.7704, 0.6322, 0.2168,  ..., 0.3104, 0.9716, 0.2224],\n",
              "         [0.1087, 0.2071, 0.8611,  ..., 0.8673, 0.1567, 0.1723]]])"
            ]
          },
          "metadata": {},
          "execution_count": 57
        }
      ]
    },
    {
      "cell_type": "markdown",
      "source": [
        "## Indexing (selecting data from tensors)\n",
        "\n",
        "Indexing with PyTorch is similar to indexing with NumPy"
      ],
      "metadata": {
        "id": "xJsXAN_bp3LP"
      }
    },
    {
      "cell_type": "code",
      "source": [
        "# Creating a new tensor\n",
        "x = torch.arange(1,10).reshape(1,3,3)\n",
        "x, x.shape"
      ],
      "metadata": {
        "colab": {
          "base_uri": "https://localhost:8080/"
        },
        "id": "-VNMb1ZFqXgw",
        "outputId": "de6750a6-b566-44f1-9240-e3fe2ee39b03"
      },
      "execution_count": null,
      "outputs": [
        {
          "output_type": "execute_result",
          "data": {
            "text/plain": [
              "(tensor([[[1, 2, 3],\n",
              "          [4, 5, 6],\n",
              "          [7, 8, 9]]]),\n",
              " torch.Size([1, 3, 3]))"
            ]
          },
          "metadata": {},
          "execution_count": 58
        }
      ]
    },
    {
      "cell_type": "code",
      "source": [
        "x[0]"
      ],
      "metadata": {
        "colab": {
          "base_uri": "https://localhost:8080/"
        },
        "id": "PxuQH2zywTWi",
        "outputId": "08ddfa12-7952-4b14-b98b-3f39acea64b4"
      },
      "execution_count": null,
      "outputs": [
        {
          "output_type": "execute_result",
          "data": {
            "text/plain": [
              "tensor([[1, 2, 3],\n",
              "        [4, 5, 6],\n",
              "        [7, 8, 9]])"
            ]
          },
          "metadata": {},
          "execution_count": 59
        }
      ]
    },
    {
      "cell_type": "code",
      "source": [
        "x[0][0]"
      ],
      "metadata": {
        "colab": {
          "base_uri": "https://localhost:8080/"
        },
        "id": "EOrLxO310TS4",
        "outputId": "d67124d8-4f58-4838-f8cb-636aa53ae757"
      },
      "execution_count": null,
      "outputs": [
        {
          "output_type": "execute_result",
          "data": {
            "text/plain": [
              "tensor([1, 2, 3])"
            ]
          },
          "metadata": {},
          "execution_count": 60
        }
      ]
    },
    {
      "cell_type": "code",
      "source": [
        "x[0][0][0]"
      ],
      "metadata": {
        "colab": {
          "base_uri": "https://localhost:8080/"
        },
        "id": "Iz0BijM40VmI",
        "outputId": "6508eec0-73b3-4dd0-8523-34a5d0809bae"
      },
      "execution_count": null,
      "outputs": [
        {
          "output_type": "execute_result",
          "data": {
            "text/plain": [
              "tensor(1)"
            ]
          },
          "metadata": {},
          "execution_count": 61
        }
      ]
    },
    {
      "cell_type": "code",
      "source": [
        "x[0][2][2]"
      ],
      "metadata": {
        "id": "RzLSRR5f0Xlg",
        "colab": {
          "base_uri": "https://localhost:8080/"
        },
        "outputId": "1a6d13d2-2f95-4177-bf78-423a0e251b37"
      },
      "execution_count": null,
      "outputs": [
        {
          "output_type": "execute_result",
          "data": {
            "text/plain": [
              "tensor(9)"
            ]
          },
          "metadata": {},
          "execution_count": 62
        }
      ]
    },
    {
      "cell_type": "code",
      "source": [
        "# You can also use \":\" to select \" all\" of a target dimmension\n",
        "x[:,0]"
      ],
      "metadata": {
        "colab": {
          "base_uri": "https://localhost:8080/"
        },
        "id": "OzKUqfGLw3EI",
        "outputId": "927daa46-903b-4a77-ce58-ef3bdbb1f242"
      },
      "execution_count": null,
      "outputs": [
        {
          "output_type": "execute_result",
          "data": {
            "text/plain": [
              "tensor([[1, 2, 3]])"
            ]
          },
          "metadata": {},
          "execution_count": 63
        }
      ]
    },
    {
      "cell_type": "code",
      "source": [
        "x[:,:,0]"
      ],
      "metadata": {
        "colab": {
          "base_uri": "https://localhost:8080/"
        },
        "id": "ONUZgCtww-L2",
        "outputId": "269098e2-56ea-4041-ad58-a64d27d30a71"
      },
      "execution_count": null,
      "outputs": [
        {
          "output_type": "execute_result",
          "data": {
            "text/plain": [
              "tensor([[1, 4, 7]])"
            ]
          },
          "metadata": {},
          "execution_count": 64
        }
      ]
    },
    {
      "cell_type": "code",
      "source": [
        "x[:,0,:]"
      ],
      "metadata": {
        "colab": {
          "base_uri": "https://localhost:8080/"
        },
        "id": "wQldTqO7xEz7",
        "outputId": "171d2f37-da46-4474-b68d-a3ae7e99faa7"
      },
      "execution_count": null,
      "outputs": [
        {
          "output_type": "execute_result",
          "data": {
            "text/plain": [
              "tensor([[1, 2, 3]])"
            ]
          },
          "metadata": {},
          "execution_count": 65
        }
      ]
    },
    {
      "cell_type": "code",
      "source": [
        "# Get all values of 0th and 1st dimensions but only index 1 of 2nd dimmension\n",
        "x[:,:,1]"
      ],
      "metadata": {
        "colab": {
          "base_uri": "https://localhost:8080/"
        },
        "id": "PDi6W8ojxKmw",
        "outputId": "108323e2-68db-491c-8f89-8ac99bf98e09"
      },
      "execution_count": null,
      "outputs": [
        {
          "output_type": "execute_result",
          "data": {
            "text/plain": [
              "tensor([[2, 5, 8]])"
            ]
          },
          "metadata": {},
          "execution_count": 66
        }
      ]
    },
    {
      "cell_type": "code",
      "source": [
        "# Get all values of the 0 dimension but only the 1 index value of 1st and 2nd dimension\n",
        "x[:,1,1]"
      ],
      "metadata": {
        "colab": {
          "base_uri": "https://localhost:8080/"
        },
        "id": "MmwCx_hVxgEl",
        "outputId": "7e836499-5d4d-4e00-845f-34d3d578ad33"
      },
      "execution_count": null,
      "outputs": [
        {
          "output_type": "execute_result",
          "data": {
            "text/plain": [
              "tensor([5])"
            ]
          },
          "metadata": {},
          "execution_count": 67
        }
      ]
    },
    {
      "cell_type": "code",
      "source": [
        " # Get index 0 of 0th and 1st dimension and all values of 2nd dimension\n",
        " x[0,0,:]"
      ],
      "metadata": {
        "colab": {
          "base_uri": "https://localhost:8080/"
        },
        "id": "td1_4YtZ1CGm",
        "outputId": "82829276-60db-448e-c1ae-4d48673f1266"
      },
      "execution_count": null,
      "outputs": [
        {
          "output_type": "execute_result",
          "data": {
            "text/plain": [
              "tensor([1, 2, 3])"
            ]
          },
          "metadata": {},
          "execution_count": 68
        }
      ]
    },
    {
      "cell_type": "code",
      "source": [
        "# indexing on x to return 3,6,9\n",
        "x[0,:,2]"
      ],
      "metadata": {
        "colab": {
          "base_uri": "https://localhost:8080/"
        },
        "id": "goxfEx9F1SxP",
        "outputId": "46760704-89ea-4bc0-e822-c18167badb48"
      },
      "execution_count": null,
      "outputs": [
        {
          "output_type": "execute_result",
          "data": {
            "text/plain": [
              "tensor([3, 6, 9])"
            ]
          },
          "metadata": {},
          "execution_count": 69
        }
      ]
    },
    {
      "cell_type": "markdown",
      "source": [
        "## PyTorch tensors & NumPy\n",
        "\n",
        "NumPy is a popular scientific python numerical computing library.\n",
        "And because of this, PyTorch has functionality to interact with it.\n",
        "* Data in NumPy, want in PyTorch tensor -> `torch.from_numpy(ndarray)`\n",
        "* PyTorch -> NumPy -> `torch.Tensor.numpy()`"
      ],
      "metadata": {
        "id": "asctR31s1sWh"
      }
    },
    {
      "cell_type": "code",
      "source": [
        "array = np.arange(1,8)\n",
        "tensor = torch.from_numpy(array) # to concert to the default dtype `type(torch.float32)`\n",
        "# when converting from numpy to pytorch, it refelects numpy's default datatype of float64 unless specified, whereas the default datatype of tensor is float32\n",
        "array, tensor"
      ],
      "metadata": {
        "colab": {
          "base_uri": "https://localhost:8080/"
        },
        "id": "a2hBeb-72tFU",
        "outputId": "26598d0c-82df-47bb-ec10-7ac82629f30b"
      },
      "execution_count": null,
      "outputs": [
        {
          "output_type": "execute_result",
          "data": {
            "text/plain": [
              "(array([1, 2, 3, 4, 5, 6, 7]), tensor([1, 2, 3, 4, 5, 6, 7]))"
            ]
          },
          "metadata": {},
          "execution_count": 70
        }
      ]
    },
    {
      "cell_type": "code",
      "source": [
        "# change the value of array what will it do to the `tensor`\n",
        "array = array +1\n",
        "array,tensor"
      ],
      "metadata": {
        "colab": {
          "base_uri": "https://localhost:8080/"
        },
        "id": "_e-9CNIT9sBs",
        "outputId": "ae806197-5b82-4578-f5e7-f6a260cee6a4"
      },
      "execution_count": null,
      "outputs": [
        {
          "output_type": "execute_result",
          "data": {
            "text/plain": [
              "(array([2, 3, 4, 5, 6, 7, 8]), tensor([1, 2, 3, 4, 5, 6, 7]))"
            ]
          },
          "metadata": {},
          "execution_count": 71
        }
      ]
    },
    {
      "cell_type": "markdown",
      "source": [
        "Thus creating a tensor from numpy leads to the creation of a new tensor, thus the new tensor does not change if you change the original array"
      ],
      "metadata": {
        "id": "UrAnimf8-Xuj"
      }
    },
    {
      "cell_type": "code",
      "source": [
        "# Tensor to NumPy array\n",
        "tensor = torch.ones(7)\n",
        "numpy_tensor = tensor.numpy()\n",
        "print(f\"The orignal tensor is: {tensor}\")\n",
        "print(f\"The NumPy converted form tensor is: {numpy_tensor}\")\n",
        "print(f\"The data type of the converted numpy is {numpy_tensor.dtype}\")"
      ],
      "metadata": {
        "colab": {
          "base_uri": "https://localhost:8080/"
        },
        "id": "GxGWa7rN-lMf",
        "outputId": "ecff7acd-fb85-4d21-d8ce-4ac0a0483644"
      },
      "execution_count": null,
      "outputs": [
        {
          "output_type": "stream",
          "name": "stdout",
          "text": [
            "The orignal tensor is: tensor([1., 1., 1., 1., 1., 1., 1.])\n",
            "The NumPy converted form tensor is: [1. 1. 1. 1. 1. 1. 1.]\n",
            "The data type of the converted numpy is float32\n"
          ]
        }
      ]
    },
    {
      "cell_type": "code",
      "source": [
        "#change the tensor and what happens to `numpy_tensor`\n",
        "tensor = tensor + 1\n",
        "tensor, numpy_tensor"
      ],
      "metadata": {
        "colab": {
          "base_uri": "https://localhost:8080/"
        },
        "id": "4nzyaY1yAcC9",
        "outputId": "200336c1-161d-423c-c573-9dd785dbf65f"
      },
      "execution_count": null,
      "outputs": [
        {
          "output_type": "execute_result",
          "data": {
            "text/plain": [
              "(tensor([2., 2., 2., 2., 2., 2., 2.]),\n",
              " array([1., 1., 1., 1., 1., 1., 1.], dtype=float32))"
            ]
          },
          "metadata": {},
          "execution_count": 73
        }
      ]
    },
    {
      "cell_type": "markdown",
      "source": [
        "We can see here that even after changing the original tensor there is no change in the array which was made from the tensor\n",
        "Thus a new copy is created in the memory when converting from tenosr to numpy, thus changing the original tensor will not change the array"
      ],
      "metadata": {
        "id": "m-KxSwmpAvli"
      }
    },
    {
      "cell_type": "markdown",
      "source": [
        "## Reproducibility (trying to take random out of random)\n",
        "\n",
        "To reduce the randomness in neural networks and PyTorch comes the concept of a **random seed**.\n",
        "\n",
        "Essentially what the random seed does is \"flavour\" the randomness\n"
      ],
      "metadata": {
        "id": "-D-9dMNpFF70"
      }
    },
    {
      "cell_type": "code",
      "source": [
        "random_tensor_A = torch.rand(3,4)\n",
        "random_tensor_B = torch.rand(3,4)\n",
        "print(random_tensor_A)\n",
        "print(random_tensor_B)\n",
        "print(random_tensor_A == random_tensor_B)\n"
      ],
      "metadata": {
        "colab": {
          "base_uri": "https://localhost:8080/"
        },
        "id": "Y2z6-A78hMVZ",
        "outputId": "e4649d85-bdcf-45f9-fdfb-80b279b4c18a"
      },
      "execution_count": null,
      "outputs": [
        {
          "output_type": "stream",
          "name": "stdout",
          "text": [
            "tensor([[0.4268, 0.9012, 0.6731, 0.6855],\n",
            "        [0.6379, 0.1646, 0.2053, 0.3443],\n",
            "        [0.2562, 0.0301, 0.5215, 0.4785]])\n",
            "tensor([[0.0944, 0.0733, 0.3568, 0.6666],\n",
            "        [0.7250, 0.4206, 0.2471, 0.4893],\n",
            "        [0.7509, 0.1653, 0.1086, 0.8651]])\n",
            "tensor([[False, False, False, False],\n",
            "        [False, False, False, False],\n",
            "        [False, False, False, False]])\n"
          ]
        }
      ]
    },
    {
      "cell_type": "code",
      "source": [
        "# Lets make some random but reproducible random numbers\n",
        "\n",
        "RANDOM_SEED = 42\n",
        "torch.manual_seed(RANDOM_SEED)\n",
        "random_tensor_C = torch.rand(3,4)\n",
        "\n",
        "torch.manual_seed(RANDOM_SEED)\n",
        "random_tensor_D = torch.rand(3,4)\n",
        "\n",
        "print(random_tensor_C)\n",
        "print(random_tensor_D)\n",
        "print(random_tensor_C == random_tensor_D)\n"
      ],
      "metadata": {
        "colab": {
          "base_uri": "https://localhost:8080/"
        },
        "id": "EfuMO4abjMfB",
        "outputId": "188e5400-0ed0-4817-a00d-083ce45c9c37"
      },
      "execution_count": null,
      "outputs": [
        {
          "output_type": "stream",
          "name": "stdout",
          "text": [
            "tensor([[0.8823, 0.9150, 0.3829, 0.9593],\n",
            "        [0.3904, 0.6009, 0.2566, 0.7936],\n",
            "        [0.9408, 0.1332, 0.9346, 0.5936]])\n",
            "tensor([[0.8823, 0.9150, 0.3829, 0.9593],\n",
            "        [0.3904, 0.6009, 0.2566, 0.7936],\n",
            "        [0.9408, 0.1332, 0.9346, 0.5936]])\n",
            "tensor([[True, True, True, True],\n",
            "        [True, True, True, True],\n",
            "        [True, True, True, True]])\n"
          ]
        }
      ]
    },
    {
      "cell_type": "markdown",
      "source": [
        "Extra resources for reproducability:\n",
        "* https://pytorch.org/docs/stable/notes/randomness.html#reproducibility\n",
        "* https://en.wikipedia.org/wiki/Random_seed"
      ],
      "metadata": {
        "id": "sQlLUzmTj0cv"
      }
    },
    {
      "cell_type": "markdown",
      "source": [
        "## Setting up PyTorch\n",
        "\n",
        "Learn it from the collab notebook of the course https://en.wikipedia.org/wiki/Random_seed"
      ],
      "metadata": {
        "id": "vPICdGqnkUb3"
      }
    }
  ]
}
